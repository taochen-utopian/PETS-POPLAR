{
 "cells": [
  {
   "cell_type": "code",
   "execution_count": 40,
   "id": "respiratory-insert",
   "metadata": {},
   "outputs": [],
   "source": [
    "import pandas as pd\n",
    "df_mt = pd.read_csv(\"/ssd003/projects/pets/datasets/mtsamples.csv\")\n",
    "Y_all = df_mt[\"medical_specialty\"][~df_mt[\"transcription\"].isna()]\n",
    "X_idx_all = [i for i in range(len(Y_all))]"
   ]
  },
  {
   "cell_type": "code",
   "execution_count": 41,
   "id": "mechanical-romantic",
   "metadata": {},
   "outputs": [
    {
     "data": {
      "text/plain": [
       "4966"
      ]
     },
     "execution_count": 41,
     "metadata": {},
     "output_type": "execute_result"
    }
   ],
   "source": [
    "len(Y_all)"
   ]
  },
  {
   "cell_type": "code",
   "execution_count": 16,
   "id": "copyrighted-bikini",
   "metadata": {},
   "outputs": [],
   "source": [
    "from sklearn.model_selection import train_test_split\n",
    "X_idx_train, X_idx_test, y_train, y_test = train_test_split(X_idx_all, Y_all, test_size=0.2, random_state=999)"
   ]
  },
  {
   "cell_type": "code",
   "execution_count": 17,
   "id": "entertaining-medicare",
   "metadata": {},
   "outputs": [],
   "source": [
    "label_counts = y_train.groupby(y_train).count()\n",
    "lbl = pd.Series(y_train.groupby(y_train).count().sort_values(ascending=False).index)\n",
    "\n",
    "def f(v):\n",
    "    if label_counts[v]>100:\n",
    "        return lbl[lbl==v].index[0]\n",
    "    else:\n",
    "        return 11\n",
    "\n",
    "Y_data = y_train.apply(f).to_numpy()"
   ]
  },
  {
   "cell_type": "code",
   "execution_count": 18,
   "id": "asian-vulnerability",
   "metadata": {},
   "outputs": [],
   "source": [
    "import numpy as np\n",
    "X_data = np.load(\"bert_mt_pooled_output.npy\")[X_idx_train]"
   ]
  },
  {
   "cell_type": "code",
   "execution_count": 19,
   "id": "requested-bonus",
   "metadata": {},
   "outputs": [
    {
     "data": {
      "text/plain": [
       "(3972, 512)"
      ]
     },
     "execution_count": 19,
     "metadata": {},
     "output_type": "execute_result"
    }
   ],
   "source": [
    "X_data.shape"
   ]
  },
  {
   "cell_type": "code",
   "execution_count": 20,
   "id": "difficult-mainland",
   "metadata": {},
   "outputs": [],
   "source": [
    "X_data_train, Y_data_train= X_data, Y_data\n",
    "X_data_train1, X_data_val1, Y_data_train1, Y_data_val1 = train_test_split(\n",
    "    X_data_train, Y_data_train, \n",
    "    test_size=0.1, random_state=999)"
   ]
  },
  {
   "cell_type": "code",
   "execution_count": 21,
   "id": "moderate-wedding",
   "metadata": {},
   "outputs": [],
   "source": [
    "from imblearn.over_sampling import SMOTE\n",
    "sm = SMOTE(random_state=999)\n",
    "X_data_train2, Y_data_train2 = sm.fit_resample(X_data_train1, Y_data_train1)\n",
    "\n",
    "# X_data_val2, Y_data_val2 = sm.fit_resample(X_data_val1, Y_data_val1)"
   ]
  },
  {
   "cell_type": "code",
   "execution_count": 22,
   "id": "perceived-course",
   "metadata": {},
   "outputs": [
    {
     "data": {
      "text/plain": [
       "(10140, 512)"
      ]
     },
     "execution_count": 22,
     "metadata": {},
     "output_type": "execute_result"
    }
   ],
   "source": [
    "X_data_train2.shape"
   ]
  },
  {
   "cell_type": "code",
   "execution_count": 23,
   "id": "cooked-kansas",
   "metadata": {},
   "outputs": [],
   "source": [
    "import torch"
   ]
  },
  {
   "cell_type": "code",
   "execution_count": 24,
   "id": "soviet-booth",
   "metadata": {},
   "outputs": [],
   "source": [
    "x_train_tensor = torch.from_numpy(X_data_train2).float()\n",
    "y_train_tensor = torch.from_numpy(Y_data_train2).long()\n",
    "\n",
    "x_train_tensor2 = torch.from_numpy(X_data_train1).float()\n",
    "y_train_tensor2 = torch.from_numpy(Y_data_train1).long()\n",
    "\n",
    "x_val_tensor = torch.from_numpy(X_data_val1).float()\n",
    "y_val_tensor = torch.from_numpy(Y_data_val1).long()"
   ]
  },
  {
   "cell_type": "code",
   "execution_count": 25,
   "id": "educational-contact",
   "metadata": {},
   "outputs": [],
   "source": [
    "class MLR(torch.nn.Module):\n",
    "\n",
    "    def __init__(self, n_features, n_classes):\n",
    "        super(MLR, self).__init__()\n",
    "        self.lr = torch.nn.Linear(n_features, n_classes)\n",
    "        \n",
    "    def forward(self, x):\n",
    "        out = torch.special.log_softmax(self.lr(x), 1)\n",
    "        return out"
   ]
  },
  {
   "cell_type": "code",
   "execution_count": 38,
   "id": "experienced-aviation",
   "metadata": {},
   "outputs": [],
   "source": [
    "model = MLR(x_train_tensor.shape[1], max(y_train_tensor)+1)\n",
    "\n",
    "# reduce the lr\n",
    "# validation data\n",
    "# weight_decay = 1e-4  or -5\n",
    "# oversample smaller class\n",
    "optim = torch.optim.Adam(model.parameters(), lr=1e-6)\n",
    "# optim = torch.optim.SGD(model.parameters(), lr=0.01)\n",
    "# use Binary Cross Entropy Loss\n",
    "criterion = torch.nn.NLLLoss(reduction='mean')"
   ]
  },
  {
   "cell_type": "code",
   "execution_count": 27,
   "id": "found-theory",
   "metadata": {},
   "outputs": [],
   "source": [
    "loss_data=[]"
   ]
  },
  {
   "cell_type": "markdown",
   "id": "differential-binding",
   "metadata": {},
   "source": [
    "# Optimize training using a validation data set"
   ]
  },
  {
   "cell_type": "code",
   "execution_count": 37,
   "id": "another-middle",
   "metadata": {
    "scrolled": false
   },
   "outputs": [],
   "source": [
    "EPOCHS = 7700\n",
    "import random\n",
    "\n",
    "batch_size = 512\n",
    "\n",
    "def train(model, optim, criterion, \n",
    "          x, y, \n",
    "          x_train, y_train, \n",
    "          x_val, y_val, loss_data, epochs=EPOCHS):\n",
    "    chunk =  [i for i in range(len(x)//batch_size)]\n",
    "    for e in range(1, epochs + 1):\n",
    "        random.shuffle(chunk)\n",
    "        \n",
    "        if e%100==0 or e==1:\n",
    "            out = model(x_train)\n",
    "            loss = criterion(out, y_train)\n",
    "            acc = torch.argmax(out, axis=1)==y_train\n",
    "\n",
    "            msg = f\"epoch {e}: train-loss:{loss.data}, train-acc:{np.sum(acc.numpy())}\"\n",
    "\n",
    "            if x_val is not None and y_val is not None:\n",
    "                val_out = model(x_val_tensor)\n",
    "                val_loss = criterion(val_out, y_val_tensor)\n",
    "                val_acc = torch.argmax(val_out, axis=1)==y_val_tensor\n",
    "                msg += f\" val-loss:{val_loss.data}, val-acc:{np.sum(val_acc.numpy())}\"             \n",
    "\n",
    "                loss_data.append([loss.data.numpy(), val_loss.data.numpy()])\n",
    "                np.save(\"models3/loss_data.npy\", np.array(loss_data))\n",
    "            else:\n",
    "                loss_data.append([loss.data.numpy()])\n",
    "\n",
    "            torch.save(model, f\"models3/mlr_{e}.pkl\")\n",
    "            print(msg)\n",
    "        \n",
    "        for i in chunk:\n",
    "            start = i*batch_size\n",
    "            end = start +batch_size\n",
    "            \n",
    "            optim.zero_grad()\n",
    "            out = model(x)\n",
    "            loss = criterion(out, y)\n",
    "            loss.backward()\n",
    "            optim.step()\n",
    "            \n",
    "        \n",
    "\n",
    "    return model\n",
    "\n",
    "model = train(model, optim, criterion, \n",
    "              x_train_tensor, y_train_tensor, \n",
    "              x_train_tensor2, y_train_tensor2,\n",
    "              x_val_tensor, y_val_tensor,\n",
    "              loss_data)"
   ]
  },
  {
   "cell_type": "markdown",
   "id": "worse-illinois",
   "metadata": {},
   "source": [
    "# Re-train to include the validation data set"
   ]
  },
  {
   "cell_type": "code",
   "execution_count": 39,
   "id": "important-pizza",
   "metadata": {},
   "outputs": [
    {
     "name": "stdout",
     "output_type": "stream",
     "text": [
      "epoch 1: train-loss:2.5500898361206055, train-acc:975\n",
      "epoch 100: train-loss:2.523773431777954, train-acc:984\n",
      "epoch 200: train-loss:2.5127389430999756, train-acc:1120\n",
      "epoch 300: train-loss:2.512946844100952, train-acc:1143\n",
      "epoch 400: train-loss:2.5212957859039307, train-acc:1153\n",
      "epoch 500: train-loss:2.5349578857421875, train-acc:1138\n",
      "epoch 600: train-loss:2.551013708114624, train-acc:1134\n",
      "epoch 700: train-loss:2.56656813621521, train-acc:1143\n",
      "epoch 800: train-loss:2.5792958736419678, train-acc:1175\n",
      "epoch 900: train-loss:2.587817430496216, train-acc:1191\n",
      "epoch 1000: train-loss:2.5916366577148438, train-acc:1221\n",
      "epoch 1100: train-loss:2.5908870697021484, train-acc:1243\n",
      "epoch 1200: train-loss:2.5861947536468506, train-acc:1262\n",
      "epoch 1300: train-loss:2.5785109996795654, train-acc:1276\n",
      "epoch 1400: train-loss:2.5687994956970215, train-acc:1277\n",
      "epoch 1500: train-loss:2.5577821731567383, train-acc:1281\n",
      "epoch 1600: train-loss:2.545943021774292, train-acc:1286\n",
      "epoch 1700: train-loss:2.533670425415039, train-acc:1292\n",
      "epoch 1800: train-loss:2.521287441253662, train-acc:1300\n",
      "epoch 1900: train-loss:2.5090065002441406, train-acc:1303\n",
      "epoch 2000: train-loss:2.496931314468384, train-acc:1309\n",
      "epoch 2100: train-loss:2.4850995540618896, train-acc:1315\n",
      "epoch 2200: train-loss:2.473524570465088, train-acc:1331\n",
      "epoch 2300: train-loss:2.462214469909668, train-acc:1334\n",
      "epoch 2400: train-loss:2.4511771202087402, train-acc:1355\n",
      "epoch 2500: train-loss:2.440420389175415, train-acc:1363\n",
      "epoch 2600: train-loss:2.4299447536468506, train-acc:1384\n",
      "epoch 2700: train-loss:2.4197449684143066, train-acc:1405\n",
      "epoch 2800: train-loss:2.40981125831604, train-acc:1424\n",
      "epoch 2900: train-loss:2.4001352787017822, train-acc:1445\n",
      "epoch 3000: train-loss:2.3907036781311035, train-acc:1482\n",
      "epoch 3100: train-loss:2.381500244140625, train-acc:1504\n",
      "epoch 3200: train-loss:2.3725087642669678, train-acc:1541\n",
      "epoch 3300: train-loss:2.363718271255493, train-acc:1566\n",
      "epoch 3400: train-loss:2.355118989944458, train-acc:1586\n",
      "epoch 3500: train-loss:2.3467001914978027, train-acc:1605\n",
      "epoch 3600: train-loss:2.3384575843811035, train-acc:1618\n",
      "epoch 3700: train-loss:2.330385446548462, train-acc:1650\n",
      "epoch 3800: train-loss:2.3224735260009766, train-acc:1679\n",
      "epoch 3900: train-loss:2.3147168159484863, train-acc:1707\n",
      "epoch 4000: train-loss:2.3071110248565674, train-acc:1738\n",
      "epoch 4100: train-loss:2.299649477005005, train-acc:1767\n",
      "epoch 4200: train-loss:2.292325258255005, train-acc:1806\n",
      "epoch 4300: train-loss:2.2851295471191406, train-acc:1836\n",
      "epoch 4400: train-loss:2.278059244155884, train-acc:1868\n",
      "epoch 4500: train-loss:2.2711105346679688, train-acc:1909\n",
      "epoch 4600: train-loss:2.2642760276794434, train-acc:1937\n",
      "epoch 4700: train-loss:2.2575464248657227, train-acc:1949\n",
      "epoch 4800: train-loss:2.2509162425994873, train-acc:1972\n",
      "epoch 4900: train-loss:2.244386911392212, train-acc:1992\n",
      "epoch 5000: train-loss:2.237959146499634, train-acc:2013\n",
      "epoch 5100: train-loss:2.23162841796875, train-acc:2038\n",
      "epoch 5200: train-loss:2.225386381149292, train-acc:2068\n",
      "epoch 5300: train-loss:2.2192296981811523, train-acc:2082\n",
      "epoch 5400: train-loss:2.2131545543670654, train-acc:2114\n",
      "epoch 5500: train-loss:2.2071645259857178, train-acc:2123\n",
      "epoch 5600: train-loss:2.201261281967163, train-acc:2146\n",
      "epoch 5700: train-loss:2.1954421997070312, train-acc:2165\n",
      "epoch 5800: train-loss:2.189702272415161, train-acc:2180\n",
      "epoch 5900: train-loss:2.1840412616729736, train-acc:2197\n",
      "epoch 6000: train-loss:2.1784579753875732, train-acc:2212\n",
      "epoch 6100: train-loss:2.172950029373169, train-acc:2226\n",
      "epoch 6200: train-loss:2.1675150394439697, train-acc:2242\n",
      "epoch 6300: train-loss:2.162149429321289, train-acc:2247\n",
      "epoch 6400: train-loss:2.1568527221679688, train-acc:2266\n",
      "epoch 6500: train-loss:2.1516225337982178, train-acc:2283\n",
      "epoch 6600: train-loss:2.146456480026245, train-acc:2292\n",
      "epoch 6700: train-loss:2.1413512229919434, train-acc:2301\n",
      "epoch 6800: train-loss:2.13630747795105, train-acc:2313\n",
      "epoch 6900: train-loss:2.13132381439209, train-acc:2327\n",
      "epoch 7000: train-loss:2.1264002323150635, train-acc:2346\n",
      "epoch 7100: train-loss:2.121534824371338, train-acc:2359\n",
      "epoch 7200: train-loss:2.1167259216308594, train-acc:2367\n",
      "epoch 7300: train-loss:2.1119680404663086, train-acc:2375\n",
      "epoch 7400: train-loss:2.1072564125061035, train-acc:2395\n",
      "epoch 7500: train-loss:2.1025874614715576, train-acc:2410\n",
      "epoch 7600: train-loss:2.0979630947113037, train-acc:2418\n",
      "epoch 7700: train-loss:2.0933821201324463, train-acc:2423\n"
     ]
    }
   ],
   "source": [
    "# re-train with validation data\n",
    "X_data_train1, Y_data_train1 = sm.fit_resample(X_data_train, Y_data_train)\n",
    "\n",
    "x_train_tensor2 = torch.from_numpy(X_data_train1).float()\n",
    "y_train_tensor2 = torch.from_numpy(Y_data_train1).long()\n",
    "\n",
    "x_train_tensor = torch.from_numpy(X_data_train).float()\n",
    "y_train_tensor = torch.from_numpy(Y_data_train).long()\n",
    "\n",
    "loss_data = []\n",
    "model = train(model, optim, criterion, \n",
    "              x_train_tensor, y_train_tensor, \n",
    "              x_train_tensor2, y_train_tensor2,\n",
    "              None, None,\n",
    "              loss_data)"
   ]
  },
  {
   "cell_type": "code",
   "execution_count": null,
   "id": "convertible-canada",
   "metadata": {},
   "outputs": [],
   "source": [
    "X_test_data = np.load(\"bert_mt_pooled_output.npy\")[X_idx_test]\n",
    "Y_test_data = y_test.apply(f).to_numpy()\n",
    "\n",
    "X_test_tensor = torch.from_numpy(X_test_data).float()\n",
    "Y_test_tensor = torch.from_numpy(Y_test_data).long()"
   ]
  },
  {
   "cell_type": "code",
   "execution_count": null,
   "id": "touched-tsunami",
   "metadata": {},
   "outputs": [],
   "source": [
    "len(X_test_data), len(Y_test_data)"
   ]
  },
  {
   "cell_type": "code",
   "execution_count": null,
   "id": "wooden-precipitation",
   "metadata": {},
   "outputs": [],
   "source": [
    "acc = torch.argmax(model.forward(torch.from_numpy(X_test_data).float()), axis=1)==torch.from_numpy(Y_test_data).long()\n",
    "np.sum(acc.numpy())"
   ]
  },
  {
   "cell_type": "code",
   "execution_count": null,
   "id": "twenty-defeat",
   "metadata": {},
   "outputs": [],
   "source": [
    "acc = torch.argmax(model.forward(torch.from_numpy(X_data_train).float()), axis=1)==torch.from_numpy(Y_data_train).long()\n",
    "np.sum(acc.numpy())"
   ]
  },
  {
   "cell_type": "code",
   "execution_count": null,
   "id": "bridal-hometown",
   "metadata": {},
   "outputs": [],
   "source": [
    "criterion = torch.nn.NLLLoss()\n",
    "valid_loss_data = []\n",
    "for i in range(1, 5000):\n",
    "    model = torch.load(f\"models/mlr_{i*100}.pkl\")\n",
    "    out = model(x_val_tensor2)\n",
    "    loss = criterion(out, y_val_tensor2)\n",
    "    acc = torch.argmax(out, axis=1)==y_val_tensor2\n",
    "    valid_loss_data.append(loss.data)"
   ]
  },
  {
   "cell_type": "code",
   "execution_count": null,
   "id": "danish-israel",
   "metadata": {},
   "outputs": [],
   "source": [
    "valid_loss_data_npy = np.array([l.numpy() for l in valid_loss_data])"
   ]
  },
  {
   "cell_type": "code",
   "execution_count": null,
   "id": "south-semiconductor",
   "metadata": {},
   "outputs": [],
   "source": [
    "loss_data_npy = np.array([[l[0].numpy(), l[1].numpy()] for l in loss_data])\n",
    "np.save(\"loss_data_npy\", loss_data_npy)"
   ]
  },
  {
   "cell_type": "code",
   "execution_count": 2,
   "id": "ideal-appointment",
   "metadata": {},
   "outputs": [],
   "source": [
    "import matplotlib.pyplot as plt\n",
    "import numpy as np"
   ]
  },
  {
   "cell_type": "code",
   "execution_count": 3,
   "id": "binary-livestock",
   "metadata": {},
   "outputs": [],
   "source": [
    "loss_data_npy = np.load(\"models3/loss_data.npy\")"
   ]
  },
  {
   "cell_type": "code",
   "execution_count": 5,
   "id": "selective-challenge",
   "metadata": {},
   "outputs": [
    {
     "data": {
      "image/png": "[encoded data removed]",
      "text/plain": [
       "<Figure size 576x720 with 1 Axes>"
      ]
     },
     "metadata": {
      "needs_background": "light"
     },
     "output_type": "display_data"
    }
   ],
   "source": [
    "plt.figure(figsize=(8,10))\n",
    "plt.plot(loss_data_npy[:,0], label='Training')\n",
    "plt.plot(loss_data_npy[:,1], label='Validation')\n",
    "legend = plt.legend(loc='upper center', shadow=True, fontsize='x-large')\n"
   ]
  },
  {
   "cell_type": "code",
   "execution_count": 36,
   "id": "intelligent-romantic",
   "metadata": {},
   "outputs": [],
   "source": [
    "model = torch.load(f\"models/mlr_{5000*100}.pkl\")"
   ]
  },
  {
   "cell_type": "code",
   "execution_count": null,
   "id": "proprietary-search",
   "metadata": {},
   "outputs": [],
   "source": [
    "class EncryptedMLR:\n",
    "    \n",
    "    def __init__(self, torch_lr):\n",
    "        # TenSEAL processes lists and not torch tensors,\n",
    "        # so we take out the parameters from the PyTorch model\n",
    "        self.weight = np.array(torch_lr.lr.weight.data.tolist()).T\n",
    "        self.bias = np.array(torch_lr.lr.bias.data.tolist())[np.newaxis,:]\n",
    "        \n",
    "    def forward(self, enc_x):\n",
    "        # We don't need to perform sigmoid as this model\n",
    "        # will only be used for evaluation, and the label\n",
    "        # can be deduced without applying sigmoid\n",
    "        enc_out = enc_x.mm(self.weight) + self.bias\n",
    "        return enc_out\n",
    "    \n",
    "    def forward_plain(self, enc_x):\n",
    "        # We don't need to perform sigmoid as this model\n",
    "        # will only be used for evaluation, and the label\n",
    "        # can be deduced without applying sigmoid\n",
    "        enc_out = enc_x.mm(self.weight) + self.bias[0]\n",
    "        return enc_out\n",
    "    \n",
    "    def __call__(self, *args, **kwargs):\n",
    "        return self.forward(*args, **kwargs)\n",
    "        \n",
    "    ################################################\n",
    "    ## You can use the functions below to perform ##\n",
    "    ## the evaluation with an encrypted model     ##\n",
    "    ################################################\n",
    "    \n",
    "    def encrypt(self, context):\n",
    "        self.weight = ts.ckks_tensor(context, self.weight)\n",
    "        self.bias = ts.ckks_tensor(context, self.bias)\n",
    "        \n",
    "    def decrypt(self, context):\n",
    "        self.weight = self.weight.decrypt()\n",
    "        self.bias = self.bias.decrypt()\n",
    "    \n",
    "enc_model = EncryptedMLR(model)"
   ]
  },
  {
   "cell_type": "code",
   "execution_count": null,
   "id": "separated-shift",
   "metadata": {},
   "outputs": [],
   "source": [
    "import tenseal as ts\n",
    "poly_mod_degree = 4096\n",
    "coeff_mod_bit_sizes = [40, 20, 40]\n",
    "# create TenSEALContext\n",
    "ctx_eval = ts.context(scheme= ts.SCHEME_TYPE.CKKS, \n",
    "                      poly_modulus_degree = poly_mod_degree,\n",
    "                      plain_modulus = -1,\n",
    "                      coeff_mod_bit_sizes = coeff_mod_bit_sizes,\n",
    "                      n_threads = 4)\n",
    "# scale of ciphertext to use\n",
    "ctx_eval.global_scale = 2 ** 20\n",
    "# this key is needed for doing dot-product operations\n",
    "ctx_eval.generate_galois_keys()"
   ]
  },
  {
   "cell_type": "code",
   "execution_count": null,
   "id": "distinct-poverty",
   "metadata": {},
   "outputs": [],
   "source": [
    "%%time\n",
    "X_test_data_ckks_vector_enc = [ts.ckks_vector(ctx_eval, X_test_data[i]) for i in range(X_test_data.shape[0])]"
   ]
  },
  {
   "cell_type": "code",
   "execution_count": null,
   "id": "limited-youth",
   "metadata": {},
   "outputs": [],
   "source": [
    "%%time\n",
    "y_hat = []\n",
    "for x_enc in X_test_data_ckks_vector_enc:\n",
    "    y_hat.append(np.argmax(enc_model.forward_plain(X_test_data_ckks_vector_enc[0]).decrypt()))"
   ]
  },
  {
   "cell_type": "code",
   "execution_count": null,
   "id": "surrounded-discrimination",
   "metadata": {},
   "outputs": [],
   "source": [
    "np.sum(np.array(y_hat)==Y_test_data)"
   ]
  },
  {
   "cell_type": "code",
   "execution_count": null,
   "id": "affecting-orientation",
   "metadata": {},
   "outputs": [],
   "source": [
    "torch.argmax(model.lr(\n",
    "    torch.from_numpy(X_test_data\n",
    "        ).float()), axis=1)"
   ]
  },
  {
   "cell_type": "code",
   "execution_count": null,
   "id": "thirty-power",
   "metadata": {},
   "outputs": [],
   "source": [
    "model.forward(\n",
    "     torch.from_numpy(X_test_data[0]\n",
    "    ).float())"
   ]
  },
  {
   "cell_type": "code",
   "execution_count": null,
   "id": "abstract-belly",
   "metadata": {},
   "outputs": [],
   "source": []
  },
  {
   "cell_type": "code",
   "execution_count": null,
   "id": "robust-flesh",
   "metadata": {},
   "outputs": [],
   "source": [
    "torch.special.log_softmax(torch.tensor([ 321.0633,   -9.1799, 1180.0303,  680.5827,   83.2495,  197.2054,\n",
    "          841.3860, 1238.2755,  247.0012,  -46.6109,  382.0247,  -95.7411]), 0)"
   ]
  },
  {
   "cell_type": "code",
   "execution_count": null,
   "id": "logical-skirt",
   "metadata": {},
   "outputs": [],
   "source": [
    "import scipy\n",
    "\n",
    "np.log(scipy.special.softmax(np.array([ 321.0633,   -9.1799, 1180.0303,  680.5827,   83.2495,  197.2054,\n",
    "          841.3860, 1238.2755,  247.0012,  -46.6109,  382.0247,  -95.7411])))"
   ]
  },
  {
   "cell_type": "code",
   "execution_count": null,
   "id": "prepared-beaver",
   "metadata": {},
   "outputs": [],
   "source": [
    "torch.special.log_softmax(model.lr(torch.from_numpy(X_test_data\n",
    "    ).float()), dim=1)\n",
    "\n"
   ]
  },
  {
   "cell_type": "code",
   "execution_count": null,
   "id": "lyric-romantic",
   "metadata": {},
   "outputs": [],
   "source": [
    "X_test_data_ckks_vector_enc[0].mm(enc_model.weight).add(enc_model.bias[0]).decrypt()"
   ]
  },
  {
   "cell_type": "code",
   "execution_count": null,
   "id": "sunset-criminal",
   "metadata": {},
   "outputs": [],
   "source": [
    "a = torch.from_numpy(X_test_data[0][np.newaxis,:]).float()"
   ]
  },
  {
   "cell_type": "code",
   "execution_count": null,
   "id": "black-editing",
   "metadata": {},
   "outputs": [],
   "source": [
    "torch.from_numpy(X_test_data).float().shape"
   ]
  },
  {
   "cell_type": "code",
   "execution_count": null,
   "id": "eight-speed",
   "metadata": {},
   "outputs": [],
   "source": [
    "a"
   ]
  },
  {
   "cell_type": "code",
   "execution_count": 51,
   "id": "matched-slide",
   "metadata": {},
   "outputs": [
    {
     "name": "stdout",
     "output_type": "stream",
     "text": [
      "-0.25 5.25 -255.16750000000005 5416.8175\n"
     ]
    },
    {
     "data": {
      "text/plain": [
       "(-0.25, 5.25, -255.16750000000005, 8416.817500000001)"
      ]
     },
     "execution_count": 51,
     "metadata": {},
     "output_type": "execute_result"
    },
    {
     "data": {
      "image/png": "[encoded data removed]",
      "text/plain": [
       "<Figure size 864x288 with 1 Axes>"
      ]
     },
     "metadata": {
      "needs_background": "light"
     },
     "output_type": "display_data"
    }
   ],
   "source": [
    "a = ['CKKS Vector (1x512)',\n",
    "     'CKKS Tensor (2x512)', \n",
    "     'CKKS Tensor (4x512)', \n",
    "     'CKKS Tensor (8x512)', \n",
    "     'CKKS Tensor (16x512)', \n",
    "     'CKKS Tensor (32x512)']\n",
    "\n",
    "b = np.array([2.65, 1973, 1938, 1926, 1967, 1972])\n",
    "c = np.array([1156, 1406, 1384, 1310, 1308, 1302])\n",
    "d = np.array([85, 5159, 5040, 4803, 4779, 4745])\n",
    "\n",
    "plt.figure(figsize=(12,4))\n",
    "plt.plot(a, b, label='Encryption time (s)')\n",
    "plt.plot(a, c, label='Inference time (s) on plain model parameters')\n",
    "plt.plot(a, d, label='Inference time (s) on encrypted model parameters')\n",
    "\n",
    "legend = plt.legend(loc='upper center', shadow=True, fontsize='large')\n",
    "xmin, xmax, ymin, ymax = plt.axis()\n",
    "print(xmin, xmax, ymin, ymax)\n",
    "plt.axis([xmin, xmax, ymin, ymax+3000])"
   ]
  },
  {
   "cell_type": "code",
   "execution_count": 49,
   "id": "worth-forty",
   "metadata": {},
   "outputs": [
    {
     "name": "stdout",
     "output_type": "stream",
     "text": [
      "-0.25 5.25 -1.0500000000000003 44.05\n"
     ]
    },
    {
     "data": {
      "text/plain": [
       "(-0.25, 5.25, -1.0500000000000003, 54.05)"
      ]
     },
     "execution_count": 49,
     "metadata": {},
     "output_type": "execute_result"
    },
    {
     "data": {
      "image/png": "[encoded data removed]",
      "text/plain": [
       "<Figure size 864x288 with 1 Axes>"
      ]
     },
     "metadata": {
      "needs_background": "light"
     },
     "output_type": "display_data"
    }
   ],
   "source": [
    "b = np.array([352,\n",
    "351,\n",
    "351,\n",
    "352,\n",
    "353,\n",
    "352,\n",
    "])\n",
    "d = np.array([352,\n",
    "351,\n",
    "351,\n",
    "352,\n",
    "353,\n",
    "352,\n",
    "])\n",
    "c = np.array([1,\n",
    "5,\n",
    "6,\n",
    "11,\n",
    "10,\n",
    "12,\n",
    "])\n",
    "e = np.array([42,\n",
    "5,\n",
    "6,\n",
    "11,\n",
    "10,\n",
    "12,\n",
    "])\n",
    "\n",
    "plt.figure(figsize=(12,4))\n",
    "# plt.plot(a, b, label='Prediction accuracy on plain model')\n",
    "# plt.plot(a, d, label='Prediction accuracy on encrypted model')\n",
    "plt.plot(a, c, label='Inconsistent predictions on plain model')\n",
    "plt.plot(a, e, label='Inconsistent predictions on encrypted model')\n",
    "\n",
    "legend = plt.legend(loc='upper center', shadow=True, fontsize='large')\n",
    "xmin, xmax, ymin, ymax = plt.axis()\n",
    "print(xmin, xmax, ymin, ymax)\n",
    "plt.axis([xmin, xmax, ymin, ymax+10])"
   ]
  },
  {
   "cell_type": "code",
   "execution_count": null,
   "id": "amateur-creativity",
   "metadata": {},
   "outputs": [],
   "source": []
  }
 ],
 "metadata": {
  "kernelspec": {
   "display_name": "pets",
   "language": "python",
   "name": "pets"
  },
  "language_info": {
   "codemirror_mode": {
    "name": "ipython",
    "version": 3
   },
   "file_extension": ".py",
   "mimetype": "text/x-python",
   "name": "python",
   "nbconvert_exporter": "python",
   "pygments_lexer": "ipython3",
   "version": "3.8.0"
  }
 },
 "nbformat": 4,
 "nbformat_minor": 5
}
