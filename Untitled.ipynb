{
 "cells": [
  {
   "cell_type": "code",
   "execution_count": 1,
   "id": "exotic-mauritius",
   "metadata": {},
   "outputs": [
    {
     "name": "stderr",
     "output_type": "stream",
     "text": [
      "/ssd003/projects/aieng/public/pets_unified/lib/python3.8/site-packages/tensorflow_addons/utils/ensure_tf_install.py:38: UserWarning: You are currently using a nightly version of TensorFlow (2.8.0-dev20211102). \n",
      "TensorFlow Addons offers no support for the nightly versions of TensorFlow. Some things might work, some other might not. \n",
      "If you encounter a bug, do not file an issue on GitHub.\n",
      "  warnings.warn(\n"
     ]
    }
   ],
   "source": [
    "import os\n",
    "import shutil\n",
    "\n",
    "import tensorflow as tf\n",
    "import tensorflow_hub as hub\n",
    "import tensorflow_text as text\n",
    "from official.nlp import optimization  # to create AdamW optimizer\n",
    "\n",
    "import matplotlib.pyplot as plt\n",
    "\n",
    "tf.get_logger().setLevel('ERROR')"
   ]
  },
  {
   "cell_type": "code",
   "execution_count": 2,
   "id": "committed-colony",
   "metadata": {},
   "outputs": [],
   "source": [
    "tfhub_handle_preprocess = \"https://tfhub.dev/tensorflow/bert_en_uncased_preprocess/3\"\n",
    "tfhub_handle_encoder = \"https://tfhub.dev/tensorflow/small_bert/bert_en_uncased_L-4_H-512_A-8/1\""
   ]
  },
  {
   "cell_type": "code",
   "execution_count": 3,
   "id": "civil-permit",
   "metadata": {},
   "outputs": [
    {
     "name": "stdout",
     "output_type": "stream",
     "text": [
      "Keys       : ['input_mask', 'input_word_ids', 'input_type_ids']\n",
      "Shape      : (1, 128)\n",
      "Word Ids   : [ 101 2023 2003 2107 2019 6429 3185  999  102    0    0    0]\n",
      "Input Mask : [1 1 1 1 1 1 1 1 1 0 0 0]\n",
      "Type Ids   : [0 0 0 0 0 0 0 0 0 0 0 0]\n"
     ]
    }
   ],
   "source": [
    "bert_preprocess_model = hub.KerasLayer(tfhub_handle_preprocess)\n",
    "text_test = ['this is such an amazing movie!']\n",
    "text_preprocessed = bert_preprocess_model(text_test)\n",
    "\n",
    "print(f'Keys       : {list(text_preprocessed.keys())}')\n",
    "print(f'Shape      : {text_preprocessed[\"input_word_ids\"].shape}')\n",
    "print(f'Word Ids   : {text_preprocessed[\"input_word_ids\"][0, :12]}')\n",
    "print(f'Input Mask : {text_preprocessed[\"input_mask\"][0, :12]}')\n",
    "print(f'Type Ids   : {text_preprocessed[\"input_type_ids\"][0, :12]}')"
   ]
  },
  {
   "cell_type": "code",
   "execution_count": 4,
   "id": "human-amsterdam",
   "metadata": {},
   "outputs": [],
   "source": [
    "bert_model = hub.KerasLayer(tfhub_handle_encoder)"
   ]
  },
  {
   "cell_type": "code",
   "execution_count": 5,
   "id": "norwegian-porcelain",
   "metadata": {},
   "outputs": [
    {
     "name": "stdout",
     "output_type": "stream",
     "text": [
      "Loaded BERT: https://tfhub.dev/tensorflow/small_bert/bert_en_uncased_L-4_H-512_A-8/1\n",
      "Pooled Outputs Shape:(1, 512)\n",
      "Pooled Outputs Values:[ 0.76262903  0.99280983 -0.18611847  0.3667386   0.15233745  0.6550445\n",
      "  0.9681154  -0.94862705  0.00216164 -0.9877732   0.0684273  -0.97630596]\n",
      "Sequence Outputs Shape:(1, 128, 512)\n",
      "Sequence Outputs Values:[[-0.28946295  0.34321263  0.33231527 ...  0.2130087   0.71020836\n",
      "  -0.05771071]\n",
      " [-0.2874208   0.31981027 -0.23018518 ...  0.5845508  -0.21329744\n",
      "   0.7269212 ]\n",
      " [-0.66157013  0.6887687  -0.8743292  ...  0.10877226 -0.26173285\n",
      "   0.47855547]\n",
      " ...\n",
      " [-0.22561097 -0.2892568  -0.07064426 ...  0.47566074  0.83277184\n",
      "   0.40025318]\n",
      " [-0.29824227 -0.27473107 -0.05450526 ...  0.488498    1.0955358\n",
      "   0.18163362]\n",
      " [-0.4437815   0.00930744  0.07223801 ...  0.17290124  1.1833242\n",
      "   0.07898009]]\n"
     ]
    }
   ],
   "source": [
    "bert_results = bert_model(text_preprocessed)\n",
    "\n",
    "print(f'Loaded BERT: {tfhub_handle_encoder}')\n",
    "print(f'Pooled Outputs Shape:{bert_results[\"pooled_output\"].shape}')\n",
    "print(f'Pooled Outputs Values:{bert_results[\"pooled_output\"][0, :12]}')\n",
    "print(f'Sequence Outputs Shape:{bert_results[\"sequence_output\"].shape}')\n",
    "print(f'Sequence Outputs Values:{bert_results[\"sequence_output\"][0, :12]}')"
   ]
  },
  {
   "cell_type": "code",
   "execution_count": 6,
   "id": "varying-track",
   "metadata": {},
   "outputs": [],
   "source": [
    "import pandas as pd\n",
    "df_mt = pd.read_csv(\"/ssd003/projects/pets/datasets/mtsamples.csv\")"
   ]
  },
  {
   "cell_type": "code",
   "execution_count": 17,
   "id": "native-departure",
   "metadata": {},
   "outputs": [],
   "source": [
    "X_all = df_mt[\"transcription\"][~df_mt[\"transcription\"].isna()]\n",
    "Y_all = df_mt[\"medical_specialty\"][~df_mt[\"transcription\"].isna()]"
   ]
  },
  {
   "cell_type": "code",
   "execution_count": 13,
   "id": "permanent-instruction",
   "metadata": {},
   "outputs": [],
   "source": [
    "text_preprocessed_mt = bert_preprocess_model(X_all)"
   ]
  },
  {
   "cell_type": "code",
   "execution_count": 14,
   "id": "specialized-performance",
   "metadata": {},
   "outputs": [],
   "source": [
    "import pickle\n",
    "with open(\"text_preprocessed_mt.pkl\", \"wb\") as fout:\n",
    "    pickle.dump(text_preprocessed_mt, fout)"
   ]
  },
  {
   "cell_type": "code",
   "execution_count": 15,
   "id": "gothic-anxiety",
   "metadata": {},
   "outputs": [],
   "source": [
    "with open(\"text_preprocessed_mt.pkl\", \"rb\") as fin:\n",
    "    text_preprocessed_mt2 = pickle.load(fin)"
   ]
  },
  {
   "cell_type": "code",
   "execution_count": 28,
   "id": "underlying-causing",
   "metadata": {},
   "outputs": [],
   "source": [
    "import numpy as np\n",
    "\n",
    "pooled_output_all = np.zeros([len(X_all), 512])\n",
    "\n",
    "for i in range(len(X_all)//128+1):\n",
    "    start = 128*i\n",
    "    end = start + 128\n",
    "    text_preprocessed_batch = {\n",
    "        \"input_mask\": text_preprocessed_mt[\"input_mask\"][start:end],\n",
    "        \"input_word_ids\": text_preprocessed_mt[\"input_word_ids\"][start:end],\n",
    "        \"input_type_ids\": text_preprocessed_mt[\"input_type_ids\"][start:end]\n",
    "    }\n",
    "    bert_mt_results = bert_model(text_preprocessed_batch)\n",
    "    pooled_output_all[start:end] = bert_mt_results[\"pooled_output\"]"
   ]
  },
  {
   "cell_type": "code",
   "execution_count": 36,
   "id": "precise-forth",
   "metadata": {},
   "outputs": [],
   "source": [
    "np.save(\"bert_mt_pooled_output\", pooled_output_all, allow_pickle=True)"
   ]
  },
  {
   "cell_type": "code",
   "execution_count": 35,
   "id": "martial-genome",
   "metadata": {},
   "outputs": [
    {
     "data": {
      "text/plain": [
       "array([[ 0.90054685,  0.9077723 , -0.30310431, ...,  0.12300892,\n",
       "        -0.5520494 , -0.67643225],\n",
       "       [ 0.11917152,  0.96000177, -0.09910253, ..., -0.07028765,\n",
       "        -0.26213399,  0.77441353],\n",
       "       [-0.31382662,  0.993572  , -0.22049351, ...,  0.22879362,\n",
       "        -0.7720679 ,  0.64762485],\n",
       "       ...,\n",
       "       [-0.60929734,  0.78391075, -0.27688962, ..., -0.05187986,\n",
       "        -0.65109682,  0.90731198],\n",
       "       [-0.17592755,  0.86092067, -0.10273649, ...,  0.33312511,\n",
       "        -0.29383278, -0.80268782],\n",
       "       [-0.97767252,  0.95949841,  0.08247349, ..., -0.05513402,\n",
       "        -0.6456095 , -0.89641678]])"
      ]
     },
     "execution_count": 35,
     "metadata": {},
     "output_type": "execute_result"
    }
   ],
   "source": [
    "pooled_output_all"
   ]
  },
  {
   "cell_type": "code",
   "execution_count": null,
   "id": "informational-pregnancy",
   "metadata": {},
   "outputs": [],
   "source": []
  }
 ],
 "metadata": {
  "kernelspec": {
   "display_name": "pets",
   "language": "python",
   "name": "pets"
  },
  "language_info": {
   "codemirror_mode": {
    "name": "ipython",
    "version": 3
   },
   "file_extension": ".py",
   "mimetype": "text/x-python",
   "name": "python",
   "nbconvert_exporter": "python",
   "pygments_lexer": "ipython3",
   "version": "3.8.0"
  }
 },
 "nbformat": 4,
 "nbformat_minor": 5
}
