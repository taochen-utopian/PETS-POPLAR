{
 "cells": [
  {
   "cell_type": "code",
   "execution_count": null,
   "id": "swedish-platform",
   "metadata": {},
   "outputs": [],
   "source": [
    "import pandas as pd"
   ]
  },
  {
   "cell_type": "code",
   "execution_count": null,
   "id": "tracked-shame",
   "metadata": {},
   "outputs": [],
   "source": [
    "df_mt = pd.read_csv(\"/ssd003/projects/pets/datasets/mtsamples.csv\")\n",
    "\n",
    "df_mt_X = df_mt[[\"description\",'sample_name', 'transcription', 'keywords']]\n",
    "df_mt_Y = df_mt[\"medical_specialty\"]"
   ]
  },
  {
   "cell_type": "code",
   "execution_count": null,
   "id": "august-briefs",
   "metadata": {},
   "outputs": [],
   "source": [
    "from sklearn.model_selection import train_test_split\n",
    "X_train, X_test, y_train, y_test = train_test_split(df_mt_X, df_mt_Y, test_size=0.2, random_state=42)"
   ]
  },
  {
   "cell_type": "code",
   "execution_count": null,
   "id": "architectural-saturday",
   "metadata": {},
   "outputs": [],
   "source": [
    "X_train.describe()"
   ]
  },
  {
   "cell_type": "code",
   "execution_count": 46,
   "id": "hollywood-details",
   "metadata": {},
   "outputs": [
    {
     "data": {
      "text/plain": [
       "medical_specialty\n",
       " Surgery                          872\n",
       " Consult - History and Phy.       409\n",
       " Cardiovascular / Pulmonary       303\n",
       " Orthopedic                       287\n",
       " General Medicine                 209\n",
       " Radiology                        205\n",
       " Gastroenterology                 188\n",
       " Neurology                        179\n",
       " SOAP / Chart / Progress Notes    139\n",
       " Obstetrics / Gynecology          125\n",
       " Urology                          121\n",
       " Discharge Summary                 87\n",
       " Neurosurgery                      76\n",
       " Hematology - Oncology             75\n",
       " ENT - Otolaryngology              73\n",
       " Nephrology                        66\n",
       " Ophthalmology                     65\n",
       " Emergency Room Reports            58\n",
       " Pediatrics - Neonatal             55\n",
       " Pain Management                   53\n",
       " Psychiatry / Psychology           46\n",
       " Podiatry                          42\n",
       " Office Notes                      40\n",
       " Dermatology                       26\n",
       " Cosmetic / Plastic Surgery        23\n",
       " Letters                           22\n",
       " Dentistry                         19\n",
       " Sleep Medicine                    18\n",
       " Endocrinology                     16\n",
       " Bariatrics                        15\n",
       " IME-QME-Work Comp etc.            15\n",
       " Physical Medicine - Rehab         14\n",
       " Chiropractic                      13\n",
       " Speech - Language                  9\n",
       " Diets and Nutritions               9\n",
       " Lab Medicine - Pathology           7\n",
       " Autopsy                            6\n",
       " Allergy / Immunology               6\n",
       " Hospice - Palliative Care          4\n",
       " Rheumatology                       4\n",
       "Name: medical_specialty, dtype: int64"
      ]
     },
     "execution_count": 46,
     "metadata": {},
     "output_type": "execute_result"
    }
   ],
   "source": [
    "y_train.groupby(y_train).count().sort_values(ascending=False)"
   ]
  },
  {
   "cell_type": "code",
   "execution_count": 54,
   "id": "chemical-symposium",
   "metadata": {},
   "outputs": [
    {
     "name": "stdout",
     "output_type": "stream",
     "text": [
      "Requirement already satisfied: spacy in /ssd003/projects/aieng/public/pets_unified/lib/python3.8/site-packages (3.4.1)\n",
      "Requirement already satisfied: pathy>=0.3.5 in /ssd003/projects/aieng/public/pets_unified/lib/python3.8/site-packages (from spacy) (0.6.2)\n",
      "Requirement already satisfied: thinc<8.2.0,>=8.1.0 in /ssd003/projects/aieng/public/pets_unified/lib/python3.8/site-packages (from spacy) (8.1.0)\n",
      "Requirement already satisfied: srsly<3.0.0,>=2.4.3 in /ssd003/projects/aieng/public/pets_unified/lib/python3.8/site-packages (from spacy) (2.4.4)\n",
      "Requirement already satisfied: catalogue<2.1.0,>=2.0.6 in /ssd003/projects/aieng/public/pets_unified/lib/python3.8/site-packages (from spacy) (2.0.8)\n",
      "Requirement already satisfied: murmurhash<1.1.0,>=0.28.0 in /ssd003/projects/aieng/public/pets_unified/lib/python3.8/site-packages (from spacy) (1.0.8)\n",
      "Requirement already satisfied: langcodes<4.0.0,>=3.2.0 in /ssd003/projects/aieng/public/pets_unified/lib/python3.8/site-packages (from spacy) (3.3.0)\n",
      "Requirement already satisfied: cymem<2.1.0,>=2.0.2 in /ssd003/projects/aieng/public/pets_unified/lib/python3.8/site-packages (from spacy) (2.0.6)\n",
      "Requirement already satisfied: typer<0.5.0,>=0.3.0 in /ssd003/projects/aieng/public/pets_unified/lib/python3.8/site-packages (from spacy) (0.4.2)\n",
      "Requirement already satisfied: packaging>=20.0 in /ssd003/projects/aieng/public/pets_unified/lib/python3.8/site-packages (from spacy) (21.2)\n",
      "Requirement already satisfied: spacy-loggers<2.0.0,>=1.0.0 in /ssd003/projects/aieng/public/pets_unified/lib/python3.8/site-packages (from spacy) (1.0.3)\n",
      "Requirement already satisfied: spacy-legacy<3.1.0,>=3.0.9 in /ssd003/projects/aieng/public/pets_unified/lib/python3.8/site-packages (from spacy) (3.0.10)\n",
      "Requirement already satisfied: preshed<3.1.0,>=3.0.2 in /ssd003/projects/aieng/public/pets_unified/lib/python3.8/site-packages (from spacy) (3.0.7)\n",
      "Requirement already satisfied: setuptools in /ssd003/projects/aieng/public/pets_unified/lib/python3.8/site-packages (from spacy) (41.2.0)\n",
      "Requirement already satisfied: numpy>=1.15.0 in /ssd003/projects/aieng/public/pets_unified/lib/python3.8/site-packages (from spacy) (1.19.2)\n",
      "Requirement already satisfied: pydantic!=1.8,!=1.8.1,<1.10.0,>=1.7.4 in /ssd003/projects/aieng/public/pets_unified/lib/python3.8/site-packages (from spacy) (1.9.2)\n",
      "Requirement already satisfied: jinja2 in /ssd003/projects/aieng/public/pets_unified/lib/python3.8/site-packages (from spacy) (2.11.3)\n",
      "Requirement already satisfied: requests<3.0.0,>=2.13.0 in /ssd003/projects/aieng/public/pets_unified/lib/python3.8/site-packages (from spacy) (2.22.0)\n",
      "Requirement already satisfied: wasabi<1.1.0,>=0.9.1 in /ssd003/projects/aieng/public/pets_unified/lib/python3.8/site-packages (from spacy) (0.10.1)\n",
      "Requirement already satisfied: tqdm<5.0.0,>=4.38.0 in /ssd003/projects/aieng/public/pets_unified/lib/python3.8/site-packages (from spacy) (4.64.0)\n",
      "Requirement already satisfied: pyparsing<3,>=2.0.2 in /ssd003/projects/aieng/public/pets_unified/lib/python3.8/site-packages (from packaging>=20.0->spacy) (2.4.7)\n",
      "Requirement already satisfied: smart-open<6.0.0,>=5.2.1 in /ssd003/projects/aieng/public/pets_unified/lib/python3.8/site-packages (from pathy>=0.3.5->spacy) (5.2.1)\n",
      "Requirement already satisfied: typing-extensions>=3.7.4.3 in /ssd003/projects/aieng/public/pets_unified/lib/python3.8/site-packages (from pydantic!=1.8,!=1.8.1,<1.10.0,>=1.7.4->spacy) (3.7.4.3)\n",
      "Requirement already satisfied: urllib3!=1.25.0,!=1.25.1,<1.26,>=1.21.1 in /ssd003/projects/aieng/public/pets_unified/lib/python3.8/site-packages (from requests<3.0.0,>=2.13.0->spacy) (1.25.11)\n",
      "Requirement already satisfied: idna<2.9,>=2.5 in /ssd003/projects/aieng/public/pets_unified/lib/python3.8/site-packages (from requests<3.0.0,>=2.13.0->spacy) (2.8)\n",
      "Requirement already satisfied: certifi>=2017.4.17 in /ssd003/projects/aieng/public/pets_unified/lib/python3.8/site-packages (from requests<3.0.0,>=2.13.0->spacy) (2021.10.8)\n",
      "Requirement already satisfied: chardet<3.1.0,>=3.0.2 in /ssd003/projects/aieng/public/pets_unified/lib/python3.8/site-packages (from requests<3.0.0,>=2.13.0->spacy) (3.0.4)\n",
      "Requirement already satisfied: blis<0.8.0,>=0.7.8 in /ssd003/projects/aieng/public/pets_unified/lib/python3.8/site-packages (from thinc<8.2.0,>=8.1.0->spacy) (0.7.8)\n",
      "Requirement already satisfied: click<9.0.0,>=7.1.1 in /ssd003/projects/aieng/public/pets_unified/lib/python3.8/site-packages (from typer<0.5.0,>=0.3.0->spacy) (7.1.2)\n",
      "Requirement already satisfied: MarkupSafe>=0.23 in /ssd003/projects/aieng/public/pets_unified/lib/python3.8/site-packages (from jinja2->spacy) (2.0.1)\n",
      "\u001b[33mWARNING: You are using pip version 21.3.1; however, version 22.2.2 is available.\n",
      "You should consider upgrading via the '/ssd003/projects/aieng/public/pets_unified/bin/python3.8 -m pip install --upgrade pip' command.\u001b[0m\n"
     ]
    }
   ],
   "source": [
    "!pip install spacy"
   ]
  },
  {
   "cell_type": "code",
   "execution_count": 45,
   "id": "derived-restriction",
   "metadata": {},
   "outputs": [
    {
     "name": "stdout",
     "output_type": "stream",
     "text": [
      "Collecting en-core-web-sm==3.4.0\n",
      "  Downloading https://github.com/explosion/spacy-models/releases/download/en_core_web_sm-3.4.0/en_core_web_sm-3.4.0-py3-none-any.whl (12.8 MB)\n",
      "     |################################| 12.8 MB 21.0 MB/s            \n",
      "\u001b[?25hRequirement already satisfied: spacy<3.5.0,>=3.4.0 in /ssd003/projects/aieng/public/pets_unified/lib/python3.8/site-packages (from en-core-web-sm==3.4.0) (3.4.1)\n",
      "Requirement already satisfied: jinja2 in /ssd003/projects/aieng/public/pets_unified/lib/python3.8/site-packages (from spacy<3.5.0,>=3.4.0->en-core-web-sm==3.4.0) (2.11.3)\n",
      "Requirement already satisfied: tqdm<5.0.0,>=4.38.0 in /ssd003/projects/aieng/public/pets_unified/lib/python3.8/site-packages (from spacy<3.5.0,>=3.4.0->en-core-web-sm==3.4.0) (4.64.0)\n",
      "Requirement already satisfied: preshed<3.1.0,>=3.0.2 in /ssd003/projects/aieng/public/pets_unified/lib/python3.8/site-packages (from spacy<3.5.0,>=3.4.0->en-core-web-sm==3.4.0) (3.0.7)\n",
      "Requirement already satisfied: packaging>=20.0 in /ssd003/projects/aieng/public/pets_unified/lib/python3.8/site-packages (from spacy<3.5.0,>=3.4.0->en-core-web-sm==3.4.0) (21.2)\n",
      "Requirement already satisfied: cymem<2.1.0,>=2.0.2 in /ssd003/projects/aieng/public/pets_unified/lib/python3.8/site-packages (from spacy<3.5.0,>=3.4.0->en-core-web-sm==3.4.0) (2.0.6)\n",
      "Requirement already satisfied: pydantic!=1.8,!=1.8.1,<1.10.0,>=1.7.4 in /ssd003/projects/aieng/public/pets_unified/lib/python3.8/site-packages (from spacy<3.5.0,>=3.4.0->en-core-web-sm==3.4.0) (1.9.2)\n",
      "Requirement already satisfied: langcodes<4.0.0,>=3.2.0 in /ssd003/projects/aieng/public/pets_unified/lib/python3.8/site-packages (from spacy<3.5.0,>=3.4.0->en-core-web-sm==3.4.0) (3.3.0)\n",
      "Requirement already satisfied: murmurhash<1.1.0,>=0.28.0 in /ssd003/projects/aieng/public/pets_unified/lib/python3.8/site-packages (from spacy<3.5.0,>=3.4.0->en-core-web-sm==3.4.0) (1.0.8)\n",
      "Requirement already satisfied: requests<3.0.0,>=2.13.0 in /ssd003/projects/aieng/public/pets_unified/lib/python3.8/site-packages (from spacy<3.5.0,>=3.4.0->en-core-web-sm==3.4.0) (2.22.0)\n",
      "Requirement already satisfied: spacy-loggers<2.0.0,>=1.0.0 in /ssd003/projects/aieng/public/pets_unified/lib/python3.8/site-packages (from spacy<3.5.0,>=3.4.0->en-core-web-sm==3.4.0) (1.0.3)\n",
      "Requirement already satisfied: typer<0.5.0,>=0.3.0 in /ssd003/projects/aieng/public/pets_unified/lib/python3.8/site-packages (from spacy<3.5.0,>=3.4.0->en-core-web-sm==3.4.0) (0.4.2)\n",
      "Requirement already satisfied: wasabi<1.1.0,>=0.9.1 in /ssd003/projects/aieng/public/pets_unified/lib/python3.8/site-packages (from spacy<3.5.0,>=3.4.0->en-core-web-sm==3.4.0) (0.10.1)\n",
      "Requirement already satisfied: srsly<3.0.0,>=2.4.3 in /ssd003/projects/aieng/public/pets_unified/lib/python3.8/site-packages (from spacy<3.5.0,>=3.4.0->en-core-web-sm==3.4.0) (2.4.4)\n",
      "Requirement already satisfied: numpy>=1.15.0 in /ssd003/projects/aieng/public/pets_unified/lib/python3.8/site-packages (from spacy<3.5.0,>=3.4.0->en-core-web-sm==3.4.0) (1.19.2)\n",
      "Requirement already satisfied: pathy>=0.3.5 in /ssd003/projects/aieng/public/pets_unified/lib/python3.8/site-packages (from spacy<3.5.0,>=3.4.0->en-core-web-sm==3.4.0) (0.6.2)\n",
      "Requirement already satisfied: setuptools in /ssd003/projects/aieng/public/pets_unified/lib/python3.8/site-packages (from spacy<3.5.0,>=3.4.0->en-core-web-sm==3.4.0) (41.2.0)\n",
      "Requirement already satisfied: thinc<8.2.0,>=8.1.0 in /ssd003/projects/aieng/public/pets_unified/lib/python3.8/site-packages (from spacy<3.5.0,>=3.4.0->en-core-web-sm==3.4.0) (8.1.0)\n",
      "Requirement already satisfied: spacy-legacy<3.1.0,>=3.0.9 in /ssd003/projects/aieng/public/pets_unified/lib/python3.8/site-packages (from spacy<3.5.0,>=3.4.0->en-core-web-sm==3.4.0) (3.0.10)\n",
      "Requirement already satisfied: catalogue<2.1.0,>=2.0.6 in /ssd003/projects/aieng/public/pets_unified/lib/python3.8/site-packages (from spacy<3.5.0,>=3.4.0->en-core-web-sm==3.4.0) (2.0.8)\n",
      "Requirement already satisfied: pyparsing<3,>=2.0.2 in /ssd003/projects/aieng/public/pets_unified/lib/python3.8/site-packages (from packaging>=20.0->spacy<3.5.0,>=3.4.0->en-core-web-sm==3.4.0) (2.4.7)\n",
      "Requirement already satisfied: smart-open<6.0.0,>=5.2.1 in /ssd003/projects/aieng/public/pets_unified/lib/python3.8/site-packages (from pathy>=0.3.5->spacy<3.5.0,>=3.4.0->en-core-web-sm==3.4.0) (5.2.1)\n",
      "Requirement already satisfied: typing-extensions>=3.7.4.3 in /ssd003/projects/aieng/public/pets_unified/lib/python3.8/site-packages (from pydantic!=1.8,!=1.8.1,<1.10.0,>=1.7.4->spacy<3.5.0,>=3.4.0->en-core-web-sm==3.4.0) (3.7.4.3)\n",
      "Requirement already satisfied: urllib3!=1.25.0,!=1.25.1,<1.26,>=1.21.1 in /ssd003/projects/aieng/public/pets_unified/lib/python3.8/site-packages (from requests<3.0.0,>=2.13.0->spacy<3.5.0,>=3.4.0->en-core-web-sm==3.4.0) (1.25.11)\n",
      "Requirement already satisfied: certifi>=2017.4.17 in /ssd003/projects/aieng/public/pets_unified/lib/python3.8/site-packages (from requests<3.0.0,>=2.13.0->spacy<3.5.0,>=3.4.0->en-core-web-sm==3.4.0) (2021.10.8)\n",
      "Requirement already satisfied: chardet<3.1.0,>=3.0.2 in /ssd003/projects/aieng/public/pets_unified/lib/python3.8/site-packages (from requests<3.0.0,>=2.13.0->spacy<3.5.0,>=3.4.0->en-core-web-sm==3.4.0) (3.0.4)\n",
      "Requirement already satisfied: idna<2.9,>=2.5 in /ssd003/projects/aieng/public/pets_unified/lib/python3.8/site-packages (from requests<3.0.0,>=2.13.0->spacy<3.5.0,>=3.4.0->en-core-web-sm==3.4.0) (2.8)\n",
      "Requirement already satisfied: blis<0.8.0,>=0.7.8 in /ssd003/projects/aieng/public/pets_unified/lib/python3.8/site-packages (from thinc<8.2.0,>=8.1.0->spacy<3.5.0,>=3.4.0->en-core-web-sm==3.4.0) (0.7.8)\n",
      "Requirement already satisfied: click<9.0.0,>=7.1.1 in /ssd003/projects/aieng/public/pets_unified/lib/python3.8/site-packages (from typer<0.5.0,>=0.3.0->spacy<3.5.0,>=3.4.0->en-core-web-sm==3.4.0) (7.1.2)\n",
      "Requirement already satisfied: MarkupSafe>=0.23 in /ssd003/projects/aieng/public/pets_unified/lib/python3.8/site-packages (from jinja2->spacy<3.5.0,>=3.4.0->en-core-web-sm==3.4.0) (2.0.1)\n",
      "Installing collected packages: en-core-web-sm\n",
      "\u001b[31mERROR: Could not install packages due to an OSError: [Errno 13] Permission denied: '/ssd003/projects/aieng/public/pets_unified/lib/python3.8/site-packages/en_core_web_sm'\n",
      "Check the permissions.\n",
      "\u001b[0m\n",
      "\u001b[33mWARNING: You are using pip version 21.3.1; however, version 22.2.2 is available.\n",
      "You should consider upgrading via the '/ssd003/projects/aieng/public/pets_unified/bin/python -m pip install --upgrade pip' command.\u001b[0m\n"
     ]
    }
   ],
   "source": [
    "!python -m spacy download en_core_web_sm"
   ]
  },
  {
   "cell_type": "code",
   "execution_count": 38,
   "id": "portable-corner",
   "metadata": {},
   "outputs": [
    {
     "name": "stdout",
     "output_type": "stream",
     "text": [
      "en_core_web_sm-3.4.0/\n",
      "en_core_web_sm-3.4.0/LICENSE\n",
      "en_core_web_sm-3.4.0/LICENSES_SOURCES\n",
      "en_core_web_sm-3.4.0/MANIFEST.in\n",
      "en_core_web_sm-3.4.0/PKG-INFO\n",
      "en_core_web_sm-3.4.0/README.md\n",
      "en_core_web_sm-3.4.0/en_core_web_sm/\n",
      "en_core_web_sm-3.4.0/en_core_web_sm/__init__.py\n",
      "en_core_web_sm-3.4.0/en_core_web_sm/en_core_web_sm-3.4.0/\n",
      "en_core_web_sm-3.4.0/en_core_web_sm/en_core_web_sm-3.4.0/LICENSE\n",
      "en_core_web_sm-3.4.0/en_core_web_sm/en_core_web_sm-3.4.0/LICENSES_SOURCES\n",
      "en_core_web_sm-3.4.0/en_core_web_sm/en_core_web_sm-3.4.0/README.md\n",
      "en_core_web_sm-3.4.0/en_core_web_sm/en_core_web_sm-3.4.0/accuracy.json\n",
      "en_core_web_sm-3.4.0/en_core_web_sm/en_core_web_sm-3.4.0/attribute_ruler/\n",
      "en_core_web_sm-3.4.0/en_core_web_sm/en_core_web_sm-3.4.0/attribute_ruler/patterns\n",
      "en_core_web_sm-3.4.0/en_core_web_sm/en_core_web_sm-3.4.0/config.cfg\n",
      "en_core_web_sm-3.4.0/en_core_web_sm/en_core_web_sm-3.4.0/lemmatizer/\n",
      "en_core_web_sm-3.4.0/en_core_web_sm/en_core_web_sm-3.4.0/lemmatizer/lookups/\n",
      "en_core_web_sm-3.4.0/en_core_web_sm/en_core_web_sm-3.4.0/lemmatizer/lookups/lookups.bin\n",
      "en_core_web_sm-3.4.0/en_core_web_sm/en_core_web_sm-3.4.0/meta.json\n",
      "en_core_web_sm-3.4.0/en_core_web_sm/en_core_web_sm-3.4.0/ner/\n",
      "en_core_web_sm-3.4.0/en_core_web_sm/en_core_web_sm-3.4.0/ner/cfg\n",
      "en_core_web_sm-3.4.0/en_core_web_sm/en_core_web_sm-3.4.0/ner/model\n",
      "en_core_web_sm-3.4.0/en_core_web_sm/en_core_web_sm-3.4.0/ner/moves\n",
      "en_core_web_sm-3.4.0/en_core_web_sm/en_core_web_sm-3.4.0/parser/\n",
      "en_core_web_sm-3.4.0/en_core_web_sm/en_core_web_sm-3.4.0/parser/cfg\n",
      "en_core_web_sm-3.4.0/en_core_web_sm/en_core_web_sm-3.4.0/parser/model\n",
      "en_core_web_sm-3.4.0/en_core_web_sm/en_core_web_sm-3.4.0/parser/moves\n",
      "en_core_web_sm-3.4.0/en_core_web_sm/en_core_web_sm-3.4.0/senter/\n",
      "en_core_web_sm-3.4.0/en_core_web_sm/en_core_web_sm-3.4.0/senter/cfg\n",
      "en_core_web_sm-3.4.0/en_core_web_sm/en_core_web_sm-3.4.0/senter/model\n",
      "en_core_web_sm-3.4.0/en_core_web_sm/en_core_web_sm-3.4.0/tagger/\n",
      "en_core_web_sm-3.4.0/en_core_web_sm/en_core_web_sm-3.4.0/tagger/cfg\n",
      "en_core_web_sm-3.4.0/en_core_web_sm/en_core_web_sm-3.4.0/tagger/model\n",
      "en_core_web_sm-3.4.0/en_core_web_sm/en_core_web_sm-3.4.0/tok2vec/\n",
      "en_core_web_sm-3.4.0/en_core_web_sm/en_core_web_sm-3.4.0/tok2vec/cfg\n",
      "en_core_web_sm-3.4.0/en_core_web_sm/en_core_web_sm-3.4.0/tok2vec/model\n",
      "en_core_web_sm-3.4.0/en_core_web_sm/en_core_web_sm-3.4.0/tokenizer\n",
      "en_core_web_sm-3.4.0/en_core_web_sm/en_core_web_sm-3.4.0/vocab/\n",
      "en_core_web_sm-3.4.0/en_core_web_sm/en_core_web_sm-3.4.0/vocab/key2row\n",
      "en_core_web_sm-3.4.0/en_core_web_sm/en_core_web_sm-3.4.0/vocab/lookups.bin\n",
      "en_core_web_sm-3.4.0/en_core_web_sm/en_core_web_sm-3.4.0/vocab/strings.json\n",
      "en_core_web_sm-3.4.0/en_core_web_sm/en_core_web_sm-3.4.0/vocab/vectors\n",
      "en_core_web_sm-3.4.0/en_core_web_sm/en_core_web_sm-3.4.0/vocab/vectors.cfg\n",
      "en_core_web_sm-3.4.0/en_core_web_sm/meta.json\n",
      "en_core_web_sm-3.4.0/en_core_web_sm.egg-info/\n",
      "en_core_web_sm-3.4.0/en_core_web_sm.egg-info/PKG-INFO\n",
      "en_core_web_sm-3.4.0/en_core_web_sm.egg-info/SOURCES.txt\n",
      "en_core_web_sm-3.4.0/en_core_web_sm.egg-info/dependency_links.txt\n",
      "en_core_web_sm-3.4.0/en_core_web_sm.egg-info/entry_points.txt\n",
      "en_core_web_sm-3.4.0/en_core_web_sm.egg-info/not-zip-safe\n",
      "en_core_web_sm-3.4.0/en_core_web_sm.egg-info/requires.txt\n",
      "en_core_web_sm-3.4.0/en_core_web_sm.egg-info/top_level.txt\n",
      "en_core_web_sm-3.4.0/meta.json\n",
      "en_core_web_sm-3.4.0/setup.cfg\n",
      "en_core_web_sm-3.4.0/setup.py\n"
     ]
    }
   ],
   "source": [
    "!tar -xvzf en_core_web_sm-3.4.0.tar.gz"
   ]
  },
  {
   "cell_type": "code",
   "execution_count": 39,
   "id": "incorporated-story",
   "metadata": {},
   "outputs": [],
   "source": [
    "import spacy"
   ]
  },
  {
   "cell_type": "code",
   "execution_count": 41,
   "id": "casual-friday",
   "metadata": {},
   "outputs": [],
   "source": [
    "nlp = spacy.load(\"./en_core_web_sm-3.4.0/en_core_web_sm/en_core_web_sm-3.4.0/\")"
   ]
  },
  {
   "cell_type": "code",
   "execution_count": 42,
   "id": "proper-addition",
   "metadata": {},
   "outputs": [
    {
     "data": {
      "text/plain": [
       "'SUBJECTIVE:,  This 23-year-old white female presents with complaint of allergies.  She used to have allergies when she lived in Seattle but she thinks they are worse here.  In the past, she has tried Claritin, and Zyrtec.  Both worked for short time but then seemed to lose effectiveness.  She has used Allegra also.  She used that last summer and she began using it again two weeks ago.  It does not appear to be working very well.  She has used over-the-counter sprays but no prescription nasal sprays.  She does have asthma but doest not require daily medication for this and does not think it is flaring up.,MEDICATIONS: , Her only medication currently is Ortho Tri-Cyclen and the Allegra.,ALLERGIES: , She has no known medicine allergies.,OBJECTIVE:,Vitals:  Weight was 130 pounds and blood pressure 124/78.,HEENT:  Her throat was mildly erythematous without exudate.  Nasal mucosa was erythematous and swollen.  Only clear drainage was seen.  TMs were clear.,Neck:  Supple without adenopathy.,Lungs:  Clear.,ASSESSMENT:,  Allergic rhinitis.,PLAN:,1.  She will try Zyrtec instead of Allegra again.  Another option will be to use loratadine.  She does not think she has prescription coverage so that might be cheaper.,2.  Samples of Nasonex two sprays in each nostril given for three weeks.  A prescription was written as well.'"
      ]
     },
     "execution_count": 42,
     "metadata": {},
     "output_type": "execute_result"
    }
   ],
   "source": [
    "df_mt_X[\"transcription\"].iloc[0]"
   ]
  },
  {
   "cell_type": "code",
   "execution_count": 43,
   "id": "literary-ideal",
   "metadata": {},
   "outputs": [],
   "source": [
    "doc = nlp(df_mt_X[\"transcription\"].iloc[0])"
   ]
  },
  {
   "cell_type": "code",
   "execution_count": 48,
   "id": "passive-aging",
   "metadata": {},
   "outputs": [
    {
     "data": {
      "text/plain": [
       "0    None\n",
       "Name: transcription, dtype: object"
      ]
     },
     "execution_count": 48,
     "metadata": {},
     "output_type": "execute_result"
    }
   ],
   "source": [
    "from collections import Counter\n",
    "vocab = Counter()\n",
    "\n",
    "def compile_vocab(s):\n",
    "    vocab.update(Counter([t.text for t in nlp(s)]))\n",
    "df_mt_X[\"transcription\"][:1].apply(compile_vocab)"
   ]
  },
  {
   "cell_type": "code",
   "execution_count": 49,
   "id": "covered-alias",
   "metadata": {},
   "outputs": [
    {
     "data": {
      "text/plain": [
       "Counter({'SUBJECTIVE': 1,\n",
       "         ':': 8,\n",
       "         ',': 6,\n",
       "         ' ': 22,\n",
       "         'This': 1,\n",
       "         '23': 1,\n",
       "         '-': 5,\n",
       "         'year': 1,\n",
       "         'old': 1,\n",
       "         'white': 1,\n",
       "         'female': 1,\n",
       "         'presents': 1,\n",
       "         'with': 1,\n",
       "         'complaint': 1,\n",
       "         'of': 3,\n",
       "         'allergies': 3,\n",
       "         '.': 25,\n",
       "         'She': 8,\n",
       "         'used': 4,\n",
       "         'to': 4,\n",
       "         'have': 2,\n",
       "         'when': 1,\n",
       "         'she': 5,\n",
       "         'lived': 1,\n",
       "         'in': 2,\n",
       "         'Seattle': 1,\n",
       "         'but': 4,\n",
       "         'thinks': 1,\n",
       "         'they': 1,\n",
       "         'are': 1,\n",
       "         'worse': 1,\n",
       "         'here': 1,\n",
       "         'In': 1,\n",
       "         'the': 3,\n",
       "         'past': 1,\n",
       "         'has': 5,\n",
       "         'tried': 1,\n",
       "         'Claritin': 1,\n",
       "         'and': 6,\n",
       "         'Zyrtec': 2,\n",
       "         'Both': 1,\n",
       "         'worked': 1,\n",
       "         'for': 3,\n",
       "         'short': 1,\n",
       "         'time': 1,\n",
       "         'then': 1,\n",
       "         'seemed': 1,\n",
       "         'lose': 1,\n",
       "         'effectiveness': 1,\n",
       "         'Allegra': 3,\n",
       "         'also': 1,\n",
       "         'that': 2,\n",
       "         'last': 1,\n",
       "         'summer': 1,\n",
       "         'began': 1,\n",
       "         'using': 1,\n",
       "         'it': 2,\n",
       "         'again': 2,\n",
       "         'two': 2,\n",
       "         'weeks': 2,\n",
       "         'ago': 1,\n",
       "         'It': 1,\n",
       "         'does': 4,\n",
       "         'not': 4,\n",
       "         'appear': 1,\n",
       "         'be': 3,\n",
       "         'working': 1,\n",
       "         'very': 1,\n",
       "         'well': 2,\n",
       "         'over': 1,\n",
       "         'counter': 1,\n",
       "         'sprays': 3,\n",
       "         'no': 2,\n",
       "         'prescription': 3,\n",
       "         'nasal': 1,\n",
       "         'asthma': 1,\n",
       "         'doest': 1,\n",
       "         'require': 1,\n",
       "         'daily': 1,\n",
       "         'medication': 2,\n",
       "         'this': 1,\n",
       "         'think': 2,\n",
       "         'is': 2,\n",
       "         'flaring': 1,\n",
       "         'up': 1,\n",
       "         ',MEDICATIONS': 1,\n",
       "         'Her': 2,\n",
       "         'only': 1,\n",
       "         'currently': 1,\n",
       "         'Ortho': 1,\n",
       "         'Tri': 1,\n",
       "         'Cyclen': 1,\n",
       "         ',ALLERGIES': 1,\n",
       "         'known': 1,\n",
       "         'medicine': 1,\n",
       "         ',OBJECTIVE:,Vitals': 1,\n",
       "         'Weight': 1,\n",
       "         'was': 5,\n",
       "         '130': 1,\n",
       "         'pounds': 1,\n",
       "         'blood': 1,\n",
       "         'pressure': 1,\n",
       "         '124/78.,HEENT': 1,\n",
       "         'throat': 1,\n",
       "         'mildly': 1,\n",
       "         'erythematous': 2,\n",
       "         'without': 2,\n",
       "         'exudate': 1,\n",
       "         'Nasal': 1,\n",
       "         'mucosa': 1,\n",
       "         'swollen': 1,\n",
       "         'Only': 1,\n",
       "         'clear': 2,\n",
       "         'drainage': 1,\n",
       "         'seen': 1,\n",
       "         'TMs': 1,\n",
       "         'were': 1,\n",
       "         ',Neck': 1,\n",
       "         'Supple': 1,\n",
       "         'adenopathy': 1,\n",
       "         ',Lungs': 1,\n",
       "         'Clear': 1,\n",
       "         ',ASSESSMENT': 1,\n",
       "         'Allergic': 1,\n",
       "         'rhinitis': 1,\n",
       "         ',PLAN:,1': 1,\n",
       "         'will': 2,\n",
       "         'try': 1,\n",
       "         'instead': 1,\n",
       "         'Another': 1,\n",
       "         'option': 1,\n",
       "         'use': 1,\n",
       "         'loratadine': 1,\n",
       "         'coverage': 1,\n",
       "         'so': 1,\n",
       "         'might': 1,\n",
       "         'cheaper': 1,\n",
       "         ',2': 1,\n",
       "         'Samples': 1,\n",
       "         'Nasonex': 1,\n",
       "         'each': 1,\n",
       "         'nostril': 1,\n",
       "         'given': 1,\n",
       "         'three': 1,\n",
       "         'A': 1,\n",
       "         'written': 1,\n",
       "         'as': 1})"
      ]
     },
     "execution_count": 49,
     "metadata": {},
     "output_type": "execute_result"
    }
   ],
   "source": [
    "vocab"
   ]
  },
  {
   "cell_type": "code",
   "execution_count": 2,
   "id": "purple-temple",
   "metadata": {},
   "outputs": [
    {
     "data": {
      "text/plain": [
       "<WordListCorpusReader in '.../corpora/stopwords' (not loaded yet)>"
      ]
     },
     "execution_count": 2,
     "metadata": {},
     "output_type": "execute_result"
    }
   ],
   "source": [
    "from nltk.corpus import stopwords\n",
    "stopwords"
   ]
  },
  {
   "cell_type": "code",
   "execution_count": 56,
   "id": "aggressive-short",
   "metadata": {},
   "outputs": [
    {
     "name": "stdout",
     "output_type": "stream",
     "text": [
      "Collecting nltk\n",
      "  Using cached nltk-3.7-py3-none-any.whl (1.5 MB)\n",
      "Requirement already satisfied: joblib in /ssd003/projects/aieng/public/pets_unified/lib/python3.8/site-packages (from nltk) (1.1.0)\n",
      "Requirement already satisfied: regex>=2021.8.3 in /ssd003/projects/aieng/public/pets_unified/lib/python3.8/site-packages (from nltk) (2021.11.1)\n",
      "Requirement already satisfied: tqdm in /ssd003/projects/aieng/public/pets_unified/lib/python3.8/site-packages (from nltk) (4.64.0)\n",
      "Requirement already satisfied: click in /ssd003/projects/aieng/public/pets_unified/lib/python3.8/site-packages (from nltk) (7.1.2)\n",
      "Installing collected packages: nltk\n",
      "\u001b[31mERROR: Could not install packages due to an OSError: [Errno 13] Permission denied: '/ssd003/projects/aieng/public/pets_unified/lib/python3.8/site-packages/nltk'\n",
      "Check the permissions.\n",
      "\u001b[0m\n",
      "\u001b[33mWARNING: You are using pip version 21.3.1; however, version 22.2.2 is available.\n",
      "You should consider upgrading via the '/ssd003/projects/aieng/public/pets_unified/bin/python3.8 -m pip install --upgrade pip' command.\u001b[0m\n"
     ]
    }
   ],
   "source": [
    "!pip install nltk"
   ]
  },
  {
   "cell_type": "code",
   "execution_count": null,
   "id": "nervous-brunei",
   "metadata": {},
   "outputs": [],
   "source": []
  }
 ],
 "metadata": {
  "kernelspec": {
   "display_name": "pets",
   "language": "python",
   "name": "pets"
  },
  "language_info": {
   "codemirror_mode": {
    "name": "ipython",
    "version": 3
   },
   "file_extension": ".py",
   "mimetype": "text/x-python",
   "name": "python",
   "nbconvert_exporter": "python",
   "pygments_lexer": "ipython3",
   "version": "3.8.0"
  }
 },
 "nbformat": 4,
 "nbformat_minor": 5
}
