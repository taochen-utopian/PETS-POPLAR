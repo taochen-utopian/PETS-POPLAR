{
 "cells": [
  {
   "cell_type": "code",
   "execution_count": 2,
   "id": "narrow-webster",
   "metadata": {},
   "outputs": [
    {
     "name": "stdout",
     "output_type": "stream",
     "text": [
      "tar (child): en_core_web_sm-3.4.0.tar.gz: Cannot open: No such file or directory\r\n",
      "tar (child): Error is not recoverable: exiting now\r\n",
      "tar: Child returned status 2\r\n",
      "tar: Error is not recoverable: exiting now\r\n"
     ]
    }
   ],
   "source": [
    "!tar -xvzf en_core_web_sm-3.4.0.tar.gz"
   ]
  },
  {
   "cell_type": "code",
   "execution_count": 1,
   "id": "swedish-platform",
   "metadata": {},
   "outputs": [],
   "source": [
    "import pandas as pd"
   ]
  },
  {
   "cell_type": "code",
   "execution_count": 2,
   "id": "tracked-shame",
   "metadata": {},
   "outputs": [],
   "source": [
    "df_mt = pd.read_csv(\"/ssd003/projects/pets/datasets/mtsamples.csv\")\n",
    "\n",
    "df_mt_X = df_mt[[\"description\",'sample_name', 'transcription', 'keywords']]\n",
    "df_mt_Y = df_mt[\"medical_specialty\"]"
   ]
  },
  {
   "cell_type": "code",
   "execution_count": 5,
   "id": "august-briefs",
   "metadata": {},
   "outputs": [],
   "source": [
    "from sklearn.model_selection import train_test_split\n",
    "X_train, X_test, y_train, y_test = train_test_split(df_mt_X, df_mt_Y, test_size=0.2, random_state=42)"
   ]
  },
  {
   "cell_type": "code",
   "execution_count": 6,
   "id": "architectural-saturday",
   "metadata": {},
   "outputs": [
    {
     "data": {
      "text/html": [
       "<div>\n",
       "<style scoped>\n",
       "    .dataframe tbody tr th:only-of-type {\n",
       "        vertical-align: middle;\n",
       "    }\n",
       "\n",
       "    .dataframe tbody tr th {\n",
       "        vertical-align: top;\n",
       "    }\n",
       "\n",
       "    .dataframe thead th {\n",
       "        text-align: right;\n",
       "    }\n",
       "</style>\n",
       "<table border=\"1\" class=\"dataframe\">\n",
       "  <thead>\n",
       "    <tr style=\"text-align: right;\">\n",
       "      <th></th>\n",
       "      <th>description</th>\n",
       "      <th>sample_name</th>\n",
       "      <th>transcription</th>\n",
       "      <th>keywords</th>\n",
       "    </tr>\n",
       "  </thead>\n",
       "  <tbody>\n",
       "    <tr>\n",
       "      <th>count</th>\n",
       "      <td>3999</td>\n",
       "      <td>3999</td>\n",
       "      <td>3973</td>\n",
       "      <td>3145</td>\n",
       "    </tr>\n",
       "    <tr>\n",
       "      <th>unique</th>\n",
       "      <td>2239</td>\n",
       "      <td>2265</td>\n",
       "      <td>2246</td>\n",
       "      <td>3079</td>\n",
       "    </tr>\n",
       "    <tr>\n",
       "      <th>top</th>\n",
       "      <td>An example/template for a routine normal male...</td>\n",
       "      <td>Thyroid Mass Consult</td>\n",
       "      <td>CHIEF COMPLAINT: , Jaw pain.,HISTORY OF PRESEN...</td>\n",
       "      <td></td>\n",
       "    </tr>\n",
       "    <tr>\n",
       "      <th>freq</th>\n",
       "      <td>10</td>\n",
       "      <td>4</td>\n",
       "      <td>4</td>\n",
       "      <td>65</td>\n",
       "    </tr>\n",
       "  </tbody>\n",
       "</table>\n",
       "</div>"
      ],
      "text/plain": [
       "                                              description  \\\n",
       "count                                                3999   \n",
       "unique                                               2239   \n",
       "top      An example/template for a routine normal male...   \n",
       "freq                                                   10   \n",
       "\n",
       "                   sample_name  \\\n",
       "count                     3999   \n",
       "unique                    2265   \n",
       "top      Thyroid Mass Consult    \n",
       "freq                         4   \n",
       "\n",
       "                                            transcription keywords  \n",
       "count                                                3973     3145  \n",
       "unique                                               2246     3079  \n",
       "top     CHIEF COMPLAINT: , Jaw pain.,HISTORY OF PRESEN...           \n",
       "freq                                                    4       65  "
      ]
     },
     "execution_count": 6,
     "metadata": {},
     "output_type": "execute_result"
    }
   ],
   "source": [
    "X_train.describe()"
   ]
  },
  {
   "cell_type": "code",
   "execution_count": 7,
   "id": "hollywood-details",
   "metadata": {},
   "outputs": [
    {
     "data": {
      "text/plain": [
       "medical_specialty\n",
       " Surgery                          872\n",
       " Consult - History and Phy.       409\n",
       " Cardiovascular / Pulmonary       303\n",
       " Orthopedic                       287\n",
       " General Medicine                 209\n",
       " Radiology                        205\n",
       " Gastroenterology                 188\n",
       " Neurology                        179\n",
       " SOAP / Chart / Progress Notes    139\n",
       " Obstetrics / Gynecology          125\n",
       " Urology                          121\n",
       " Discharge Summary                 87\n",
       " Neurosurgery                      76\n",
       " Hematology - Oncology             75\n",
       " ENT - Otolaryngology              73\n",
       " Nephrology                        66\n",
       " Ophthalmology                     65\n",
       " Emergency Room Reports            58\n",
       " Pediatrics - Neonatal             55\n",
       " Pain Management                   53\n",
       " Psychiatry / Psychology           46\n",
       " Podiatry                          42\n",
       " Office Notes                      40\n",
       " Dermatology                       26\n",
       " Cosmetic / Plastic Surgery        23\n",
       " Letters                           22\n",
       " Dentistry                         19\n",
       " Sleep Medicine                    18\n",
       " Endocrinology                     16\n",
       " Bariatrics                        15\n",
       " IME-QME-Work Comp etc.            15\n",
       " Physical Medicine - Rehab         14\n",
       " Chiropractic                      13\n",
       " Speech - Language                  9\n",
       " Diets and Nutritions               9\n",
       " Lab Medicine - Pathology           7\n",
       " Autopsy                            6\n",
       " Allergy / Immunology               6\n",
       " Hospice - Palliative Care          4\n",
       " Rheumatology                       4\n",
       "Name: medical_specialty, dtype: int64"
      ]
     },
     "execution_count": 7,
     "metadata": {},
     "output_type": "execute_result"
    }
   ],
   "source": [
    "y_train.groupby(y_train).count().sort_values(ascending=False)"
   ]
  },
  {
   "cell_type": "code",
   "execution_count": 8,
   "id": "incorporated-story",
   "metadata": {},
   "outputs": [],
   "source": [
    "import spacy"
   ]
  },
  {
   "cell_type": "code",
   "execution_count": 22,
   "id": "proper-addition",
   "metadata": {},
   "outputs": [
    {
     "data": {
      "text/plain": [
       "(' SOAP / Chart / Progress Notes',\n",
       " \"REASON FOR VISIT:,  Followup visit status post removal of external fixator and status post open reduction internal fixation of right tibial plateau fracture.,HISTORY OF PRESENT ILLNESS: , The patient is now approximately week status post removal of Ex-Fix from the right knee with an MUA following open reduction internal fixation of right tibial plateau fracture.  The patient states that this pain is well controlled.  He has had no fevers, chills or night sweats.  He has had some mild drainage from his pin sites.  He just started doing range of motion type exercises for his right knee.  He has had no numbness or tingling.,FINDINGS: , On exam, his pin sites had no erythema.  There is some mild drainage but they have been dressing with bacitracin, it looks like there may be part of the fluid noted.  The patient had 3/5 strength in the EHL, FHL.  He has intact sensation to light touch in a DP, SP, and tibial nerve distribution.,X-rays taken include three views of the right knee.  It demonstrate status post open reduction internal fixation of the right tibial plateau with excellent hardware placement and alignment.,ASSESSMENT: , Status post open reduction and internal fixation of right tibial plateau fracture with removal ex fix.,PLANS: , I gave the patient a prescription for aggressive range of motion of the right knee.  I would like to really work on this as he has not had much up to this time.  He should remain nonweightbearing.  I would like to have him return in 2 weeks' time to assess his knee range of motion.  He should not need x-rays at that time.\")"
      ]
     },
     "execution_count": 22,
     "metadata": {},
     "output_type": "execute_result"
    }
   ],
   "source": [
    "idx=1341     \n",
    "df_mt_Y.iloc[idx], df_mt_X[\"transcription\"].iloc[idx]"
   ]
  },
  {
   "cell_type": "code",
   "execution_count": 10,
   "id": "casual-friday",
   "metadata": {},
   "outputs": [],
   "source": [
    "nlp = spacy.load(\"../en_core_web_sm-3.4.0/en_core_web_sm/en_core_web_sm-3.4.0/\", \n",
    "                 disable=[\"tok2vec\", \"tagger\", \"parser\", \"attribute_ruler\", \"lemmatizer\"])"
   ]
  },
  {
   "cell_type": "code",
   "execution_count": 11,
   "id": "acoustic-label",
   "metadata": {},
   "outputs": [
    {
     "data": {
      "text/plain": [
       "' Radiology'"
      ]
     },
     "execution_count": 11,
     "metadata": {},
     "output_type": "execute_result"
    }
   ],
   "source": [
    "y_train.iloc[0]"
   ]
  },
  {
   "cell_type": "code",
   "execution_count": 12,
   "id": "literary-ideal",
   "metadata": {},
   "outputs": [],
   "source": [
    "doc = nlp(X_train[\"transcription\"].iloc[0])"
   ]
  },
  {
   "cell_type": "code",
   "execution_count": 13,
   "id": "conditional-pixel",
   "metadata": {},
   "outputs": [],
   "source": [
    "# from collections import Counter\n",
    "# vocab = Counter()\n",
    "\n",
    "# def compile_vocab(s):\n",
    "#     vocab.update(Counter([t.text for t in nlp(s.lower())]))\n",
    "# X_train[~X_train[\"transcription\"].isna()][\"transcription\"].apply(compile_vocab)\n",
    "# len(vocab)"
   ]
  },
  {
   "cell_type": "code",
   "execution_count": 14,
   "id": "purple-temple",
   "metadata": {},
   "outputs": [],
   "source": [
    "import string\n",
    "with open(\"../stopwords/english\") as fin:\n",
    "    stopwords = {l.strip() for l in fin}\n",
    "    \n",
    "# for s in stopwords:\n",
    "#     vocab.pop(s, None)\n",
    "    \n",
    "# for c in string.punctuation:\n",
    "#     vocab.pop(c, None)\n",
    "    \n",
    "# vocab.pop(' ', None)\n",
    "\n",
    "# len(vocab)"
   ]
  },
  {
   "cell_type": "code",
   "execution_count": 15,
   "id": "brown-harris",
   "metadata": {},
   "outputs": [],
   "source": [
    "# with open(\"./vocab_all.txt\", \"w\", encoding=\"utf-8\") as fout:\n",
    "#     for k,c in vocab.items():\n",
    "#         fout.write(f\"{k}:{c}\\n\")"
   ]
  },
  {
   "cell_type": "code",
   "execution_count": 16,
   "id": "marked-sodium",
   "metadata": {},
   "outputs": [],
   "source": [
    "# from collections import Counter\n",
    "# vocab = Counter()\n",
    "\n",
    "# with open(\"./vocab_all.txt\", encoding=\"utf-8\") as fin:\n",
    "#     for l in fin:\n",
    "#         vv = l.split(':')\n",
    "#         w = ':'.join(vv[:-1])\n",
    "#         c = int(vv[-1])\n",
    "#         vocab[w]= c"
   ]
  },
  {
   "cell_type": "code",
   "execution_count": 17,
   "id": "extensive-pocket",
   "metadata": {},
   "outputs": [],
   "source": [
    "glove = {}\n",
    "with open(\"../glove.6B.100d.txt\", encoding=\"utf-8\") as fin:\n",
    "    for l in fin:\n",
    "        vv = l.split(' ')\n",
    "        v = list(map(float, vv[-100:]))\n",
    "        w = ' '.join(vv[:-100])\n",
    "        glove[w]=v"
   ]
  },
  {
   "cell_type": "code",
   "execution_count": 18,
   "id": "union-minnesota",
   "metadata": {},
   "outputs": [],
   "source": [
    "# vocab1000 = vocab.most_common(1000)\n",
    "# vocab1000 = {v[0]:i for i,v in enumerate(vocab1000)}"
   ]
  },
  {
   "cell_type": "code",
   "execution_count": 19,
   "id": "champion-tokyo",
   "metadata": {},
   "outputs": [],
   "source": [
    "import numpy as np\n",
    "\n",
    "def word_vector(s):\n",
    "    embedding = np.zeros(100)\n",
    "    if not pd.isna(s):\n",
    "        v = [glove[t.text] for t in nlp(s.lower()) \n",
    "                 if (t.text in glove and \n",
    "                     t.text not in stopwords and \n",
    "                     t.text not in string.punctuation)]\n",
    "        embedding = np.array(v).mean(axis=0)\n",
    "    return embedding\n",
    "\n",
    "X = np.stack(X_train[\"transcription\"].apply(word_vector))"
   ]
  },
  {
   "cell_type": "code",
   "execution_count": 20,
   "id": "directed-retail",
   "metadata": {},
   "outputs": [
    {
     "data": {
      "text/plain": [
       "(3999, 100)"
      ]
     },
     "execution_count": 20,
     "metadata": {},
     "output_type": "execute_result"
    }
   ],
   "source": [
    "X.shape"
   ]
  },
  {
   "cell_type": "code",
   "execution_count": 21,
   "id": "proprietary-nation",
   "metadata": {},
   "outputs": [],
   "source": [
    "label_counts = y_train.groupby(y_train).count()"
   ]
  },
  {
   "cell_type": "code",
   "execution_count": 22,
   "id": "handy-leone",
   "metadata": {},
   "outputs": [],
   "source": [
    "lbl = pd.Series(y_train.groupby(y_train).count().sort_values(ascending=False).index)"
   ]
  },
  {
   "cell_type": "code",
   "execution_count": 23,
   "id": "collaborative-yukon",
   "metadata": {},
   "outputs": [],
   "source": [
    "def f(v):\n",
    "    if label_counts[v]>100:\n",
    "        return lbl[lbl==v].index[0]\n",
    "    else:\n",
    "        return 11\n",
    "\n",
    "Y = y_train.apply(f).to_numpy()"
   ]
  },
  {
   "cell_type": "code",
   "execution_count": 24,
   "id": "still-platform",
   "metadata": {},
   "outputs": [
    {
     "data": {
      "text/plain": [
       "(3999,)"
      ]
     },
     "execution_count": 24,
     "metadata": {},
     "output_type": "execute_result"
    }
   ],
   "source": [
    "Y.shape"
   ]
  },
  {
   "cell_type": "code",
   "execution_count": 25,
   "id": "confirmed-satisfaction",
   "metadata": {},
   "outputs": [],
   "source": [
    "import torch"
   ]
  },
  {
   "cell_type": "code",
   "execution_count": 26,
   "id": "chinese-dynamics",
   "metadata": {},
   "outputs": [],
   "source": [
    "class MLR(torch.nn.Module):\n",
    "\n",
    "    def __init__(self, n_features, n_classes):\n",
    "        super(MLR, self).__init__()\n",
    "        self.lr = torch.nn.Linear(n_features, n_classes)\n",
    "        \n",
    "    def forward(self, x):\n",
    "        out = torch.special.log_softmax(self.lr(x), 0)\n",
    "        return out"
   ]
  },
  {
   "cell_type": "code",
   "execution_count": 27,
   "id": "governing-trading",
   "metadata": {},
   "outputs": [],
   "source": [
    "model = MLR(X.shape[1], max(Y)+1)\n",
    "\n",
    "optim = torch.optim.SGD(model.parameters(), lr=1)\n",
    "# use Binary Cross Entropy Loss\n",
    "criterion = torch.nn.NLLLoss()"
   ]
  },
  {
   "cell_type": "code",
   "execution_count": 28,
   "id": "separate-casting",
   "metadata": {},
   "outputs": [],
   "source": [
    "x_train_tensor = torch.from_numpy(X).float()\n",
    "y_train_tensor = torch.from_numpy(Y).long()"
   ]
  },
  {
   "cell_type": "code",
   "execution_count": 29,
   "id": "expired-discovery",
   "metadata": {},
   "outputs": [
    {
     "name": "stdout",
     "output_type": "stream",
     "text": [
      "Loss at epoch 1000: 7.665160655975342, correct predicted: 1464\n",
      "Loss at epoch 2000: 7.595707893371582, correct predicted: 1495\n",
      "Loss at epoch 3000: 7.561037540435791, correct predicted: 1512\n",
      "Loss at epoch 4000: 7.5389862060546875, correct predicted: 1540\n",
      "Loss at epoch 5000: 7.523374080657959, correct predicted: 1561\n",
      "Loss at epoch 6000: 7.511655330657959, correct predicted: 1577\n",
      "Loss at epoch 7000: 7.50251579284668, correct predicted: 1572\n",
      "Loss at epoch 8000: 7.4951863288879395, correct predicted: 1573\n",
      "Loss at epoch 9000: 7.48917818069458, correct predicted: 1576\n",
      "Loss at epoch 10000: 7.484161376953125, correct predicted: 1579\n"
     ]
    }
   ],
   "source": [
    "EPOCHS = 10000\n",
    "\n",
    "def train(model, optim, criterion, x, y, epochs=EPOCHS):\n",
    "    for e in range(1, epochs + 1):\n",
    "        optim.zero_grad()\n",
    "        out = model(x)\n",
    "        loss = criterion(out, y)\n",
    "        loss.backward()\n",
    "        optim.step()\n",
    "        if e%1000==0:\n",
    "            acc = torch.argmax(model.forward(x_train_tensor), axis=1)==y_train_tensor\n",
    "            print(f\"Loss at epoch {e}: {loss.data}, correct predicted: {np.sum(acc.numpy())}\")\n",
    "            \n",
    "    return model\n",
    "\n",
    "model = train(model, optim, criterion, x_train_tensor, y_train_tensor)"
   ]
  },
  {
   "cell_type": "code",
   "execution_count": 30,
   "id": "collective-extension",
   "metadata": {},
   "outputs": [],
   "source": [
    "X_test2 = np.stack(X_test[\"transcription\"].apply(word_vector))\n",
    "Y_test2 = y_test.apply(f).to_numpy()"
   ]
  },
  {
   "cell_type": "code",
   "execution_count": 31,
   "id": "dated-blogger",
   "metadata": {},
   "outputs": [],
   "source": [
    "x_test_tensor = torch.from_numpy(X_test2).float()\n",
    "y_test_tensor = torch.from_numpy(Y_test2).long()"
   ]
  },
  {
   "cell_type": "code",
   "execution_count": 32,
   "id": "pursuant-affair",
   "metadata": {},
   "outputs": [
    {
     "data": {
      "text/plain": [
       "330"
      ]
     },
     "execution_count": 32,
     "metadata": {},
     "output_type": "execute_result"
    }
   ],
   "source": [
    "acc = torch.argmax(model.forward(x_test_tensor), axis=1)==y_test_tensor\n",
    "np.sum(acc.numpy())"
   ]
  },
  {
   "cell_type": "code",
   "execution_count": 33,
   "id": "perceived-indicator",
   "metadata": {},
   "outputs": [
    {
     "data": {
      "text/plain": [
       "torch.Size([1000, 100])"
      ]
     },
     "execution_count": 33,
     "metadata": {},
     "output_type": "execute_result"
    }
   ],
   "source": [
    "x_test_tensor.shape"
   ]
  },
  {
   "cell_type": "code",
   "execution_count": 34,
   "id": "unlike-contributor",
   "metadata": {},
   "outputs": [],
   "source": [
    "import tenseal as ts\n",
    "poly_mod_degree = 4096\n",
    "coeff_mod_bit_sizes = [40, 20, 40]\n",
    "# create TenSEALContext\n",
    "ctx_eval = ts.context(ts.SCHEME_TYPE.CKKS, poly_mod_degree, -1, coeff_mod_bit_sizes)\n",
    "# scale of ciphertext to use\n",
    "ctx_eval.global_scale = 2 ** 20\n",
    "# this key is needed for doing dot-product operations\n",
    "ctx_eval.generate_galois_keys()"
   ]
  },
  {
   "cell_type": "code",
   "execution_count": 29,
   "id": "human-paintball",
   "metadata": {},
   "outputs": [],
   "source": [
    "class EncryptedLR:\n",
    "    \n",
    "    def __init__(self, torch_lr):\n",
    "        # TenSEAL processes lists and not torch tensors,\n",
    "        # so we take out the parameters from the PyTorch model\n",
    "        self.weight = np.array(torch_lr.lr.weight.data.tolist()).T\n",
    "        self.bias = np.array(torch_lr.lr.bias.data.tolist())[np.newaxis,:]\n",
    "        \n",
    "    def forward(self, enc_x):\n",
    "        # We don't need to perform sigmoid as this model\n",
    "        # will only be used for evaluation, and the label\n",
    "        # can be deduced without applying sigmoid\n",
    "        enc_out = enc_x.mm(self.weight) + self.bias\n",
    "        return enc_out\n",
    "    \n",
    "    def __call__(self, *args, **kwargs):\n",
    "        return self.forward(*args, **kwargs)\n",
    "        \n",
    "    ################################################\n",
    "    ## You can use the functions below to perform ##\n",
    "    ## the evaluation with an encrypted model     ##\n",
    "    ################################################\n",
    "    \n",
    "    def encrypt(self, context):\n",
    "        self.weight = ts.ckks_tensor(context, self.weight)\n",
    "        self.bias = ts.ckks_tensor(context, self.bias)\n",
    "        \n",
    "    def decrypt(self, context):\n",
    "        self.weight = self.weight.decrypt()\n",
    "        self.bias = self.bias.decrypt()\n",
    "        \n",
    "\n",
    "model_enc = EncryptedLR(model)\n",
    "model_enc.encrypt(ctx_eval)"
   ]
  },
  {
   "cell_type": "code",
   "execution_count": 33,
   "id": "selected-circle",
   "metadata": {},
   "outputs": [
    {
     "name": "stdout",
     "output_type": "stream",
     "text": [
      "CPU times: user 39.4 s, sys: 1.42 s, total: 40.8 s\n",
      "Wall time: 11.2 s\n"
     ]
    }
   ],
   "source": [
    "%%time\n",
    "enc_x_0 = ts.ckks_tensor(ctx_eval, X[:100])  100*100"
   ]
  },
  {
   "cell_type": "code",
   "execution_count": 34,
   "id": "specific-production",
   "metadata": {},
   "outputs": [
    {
     "name": "stdout",
     "output_type": "stream",
     "text": [
      "CPU times: user 6min 31s, sys: 4.19 s, total: 6min 36s\n",
      "Wall time: 1min 40s\n"
     ]
    }
   ],
   "source": [
    "%%time\n",
    "out=model_enc.forward(enc_x_0)  100*100 * 100* 12 + 12"
   ]
  },
  {
   "cell_type": "code",
   "execution_count": 36,
   "id": "presidential-extraction",
   "metadata": {},
   "outputs": [],
   "source": [
    "out2= np.array(out.decrypt().tolist())"
   ]
  },
  {
   "cell_type": "code",
   "execution_count": 40,
   "id": "heard-associate",
   "metadata": {},
   "outputs": [
    {
     "data": {
      "text/plain": [
       "tensor(-1.0981)"
      ]
     },
     "execution_count": 40,
     "metadata": {},
     "output_type": "execute_result"
    }
   ],
   "source": [
    "loss = criterion(torch.from_numpy(out2).float(), y_train_tensor[:100])\n",
    "loss.data"
   ]
  },
  {
   "cell_type": "code",
   "execution_count": 42,
   "id": "qualified-sally",
   "metadata": {},
   "outputs": [
    {
     "data": {
      "text/plain": [
       "tensor(3.8953)"
      ]
     },
     "execution_count": 42,
     "metadata": {},
     "output_type": "execute_result"
    }
   ],
   "source": [
    "out = model.forward(x_train_tensor[:100])\n",
    "loss = criterion(out, y_train_tensor[:100])\n",
    "loss.data"
   ]
  },
  {
   "cell_type": "code",
   "execution_count": 49,
   "id": "danish-suffering",
   "metadata": {},
   "outputs": [
    {
     "data": {
      "text/plain": [
       "torch.Size([100, 12])"
      ]
     },
     "execution_count": 49,
     "metadata": {},
     "output_type": "execute_result"
    }
   ],
   "source": [
    "out[0]"
   ]
  },
  {
   "cell_type": "code",
   "execution_count": 48,
   "id": "posted-california",
   "metadata": {},
   "outputs": [
    {
     "data": {
      "text/plain": [
       "(100, 12)"
      ]
     },
     "execution_count": 48,
     "metadata": {},
     "output_type": "execute_result"
    }
   ],
   "source": [
    "out2.shape"
   ]
  },
  {
   "cell_type": "code",
   "execution_count": 36,
   "id": "fifth-provincial",
   "metadata": {},
   "outputs": [],
   "source": [
    "W = np.array(model.lr.weight.data.tolist()).T\n",
    "enc_W= ts.ckks_tensor(ctx_eval, W)\n",
    "\n",
    "bias = np.array(model.lr.bias.data.tolist())\n",
    "enc_bias = ts.ckks_tensor(ctx_eval, bias[np.newaxis,:])"
   ]
  },
  {
   "cell_type": "code",
   "execution_count": 74,
   "id": "instructional-fifteen",
   "metadata": {},
   "outputs": [],
   "source": []
  },
  {
   "cell_type": "code",
   "execution_count": 37,
   "id": "lesbian-store",
   "metadata": {},
   "outputs": [
    {
     "name": "stdout",
     "output_type": "stream",
     "text": [
      "0.2918665627214959\n",
      "0.49005764091122384\n",
      "1.0302256807573742\n",
      "1.3749713208072287\n",
      "1.6207503361904692\n"
     ]
    }
   ],
   "source": [
    "for c in range(1, 6):\n",
    "    aa = np.matmul(X[0:c], W) + bias\n",
    "    enc_X = ts.ckks_tensor(ctx_eval, X[:c])\n",
    "    bb = np.array((enc_X.mm(enc_W) + enc_bias).decrypt().tolist())\n",
    "    print(np.sum(np.abs(aa-bb)))"
   ]
  },
  {
   "cell_type": "code",
   "execution_count": 51,
   "id": "million-headset",
   "metadata": {},
   "outputs": [],
   "source": [
    "a  = pd.DataFrame(data={'x':[1,2,3,4,5],'y':[0.2918665627214959,\n",
    "0.49005764091122384,\n",
    "1.0302256807573742,\n",
    "1.3749713208072287,\n",
    "1.620750336190469]})\n",
    "\n"
   ]
  },
  {
   "cell_type": "code",
   "execution_count": 52,
   "id": "rising-lover",
   "metadata": {},
   "outputs": [
    {
     "data": {
      "text/html": [
       "<div>\n",
       "<style scoped>\n",
       "    .dataframe tbody tr th:only-of-type {\n",
       "        vertical-align: middle;\n",
       "    }\n",
       "\n",
       "    .dataframe tbody tr th {\n",
       "        vertical-align: top;\n",
       "    }\n",
       "\n",
       "    .dataframe thead th {\n",
       "        text-align: right;\n",
       "    }\n",
       "</style>\n",
       "<table border=\"1\" class=\"dataframe\">\n",
       "  <thead>\n",
       "    <tr style=\"text-align: right;\">\n",
       "      <th></th>\n",
       "      <th>x</th>\n",
       "      <th>y</th>\n",
       "    </tr>\n",
       "  </thead>\n",
       "  <tbody>\n",
       "    <tr>\n",
       "      <th>0</th>\n",
       "      <td>1</td>\n",
       "      <td>0.291867</td>\n",
       "    </tr>\n",
       "    <tr>\n",
       "      <th>1</th>\n",
       "      <td>2</td>\n",
       "      <td>0.490058</td>\n",
       "    </tr>\n",
       "    <tr>\n",
       "      <th>2</th>\n",
       "      <td>3</td>\n",
       "      <td>1.030226</td>\n",
       "    </tr>\n",
       "    <tr>\n",
       "      <th>3</th>\n",
       "      <td>4</td>\n",
       "      <td>1.374971</td>\n",
       "    </tr>\n",
       "    <tr>\n",
       "      <th>4</th>\n",
       "      <td>5</td>\n",
       "      <td>1.620750</td>\n",
       "    </tr>\n",
       "  </tbody>\n",
       "</table>\n",
       "</div>"
      ],
      "text/plain": [
       "   x         y\n",
       "0  1  0.291867\n",
       "1  2  0.490058\n",
       "2  3  1.030226\n",
       "3  4  1.374971\n",
       "4  5  1.620750"
      ]
     },
     "execution_count": 52,
     "metadata": {},
     "output_type": "execute_result"
    }
   ],
   "source": [
    "a"
   ]
  },
  {
   "cell_type": "code",
   "execution_count": 53,
   "id": "variable-medicaid",
   "metadata": {},
   "outputs": [
    {
     "data": {
      "text/plain": [
       "<AxesSubplot:xlabel='x', ylabel='y'>"
      ]
     },
     "execution_count": 53,
     "metadata": {},
     "output_type": "execute_result"
    },
    {
     "data": {
      "image/png": "[encoded data removed]",
      "text/plain": [
       "<Figure size 432x288 with 1 Axes>"
      ]
     },
     "metadata": {
      "needs_background": "light"
     },
     "output_type": "display_data"
    }
   ],
   "source": [
    "a.plot(kind=\"scatter\", x=\"x\", y=\"y\")"
   ]
  },
  {
   "cell_type": "code",
   "execution_count": null,
   "id": "classical-clone",
   "metadata": {},
   "outputs": [],
   "source": []
  }
 ],
 "metadata": {
  "kernelspec": {
   "display_name": "pets",
   "language": "python",
   "name": "pets"
  },
  "language_info": {
   "codemirror_mode": {
    "name": "ipython",
    "version": 3
   },
   "file_extension": ".py",
   "mimetype": "text/x-python",
   "name": "python",
   "nbconvert_exporter": "python",
   "pygments_lexer": "ipython3",
   "version": "3.8.0"
  }
 },
 "nbformat": 4,
 "nbformat_minor": 5
}
