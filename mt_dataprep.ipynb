{
 "cells": [
  {
   "cell_type": "code",
   "execution_count": 1,
   "id": "bronze-oasis",
   "metadata": {},
   "outputs": [],
   "source": [
    "import matplotlib.pyplot as plt\n",
    "import numpy as np\n",
    "import pandas as pd\n",
    "import tenseal as ts\n",
    "import torch\n",
    "from sklearn.metrics import accuracy_score, auc, f1_score\n",
    "from sklearn.preprocessing import StandardScaler\n",
    "from torch.utils.data import DataLoader, Dataset"
   ]
  },
  {
   "cell_type": "code",
   "execution_count": 74,
   "id": "senior-thursday",
   "metadata": {},
   "outputs": [],
   "source": [
    "data_dir = \"/ssd003/projects/pets/datasets\"\n",
    "all_data = pd.read_csv(f\"{data_dir}/mtsamples.csv\").drop([\"Unnamed: 0\",\"description\",\"keywords\",\"sample_name\"], axis=1)\n",
    "colname='medical_specialty'"
   ]
  },
  {
   "cell_type": "code",
   "execution_count": 85,
   "id": "uniform-switch",
   "metadata": {},
   "outputs": [],
   "source": [
    "def filter_speciality(all_data,colname='medical_specialty',cutoff=0.002):\n",
    "    \"\"\"Change this so that we can use raw counts as well. This happens to correspond to >= 10 counts\"\"\"\n",
    "    \n",
    "    assert colname in all_data.columns.values, f\"Please check column name ''{colname}''\"\n",
    "    \n",
    "    \n",
    "    count_data=all_data['medical_specialty'].value_counts(normalize=True).to_frame() #get counts as data frame\n",
    "    count_data = count_data.reset_index()\n",
    "    count_data.columns  = [colname, 'frequency'] # change column names to work with\n",
    "\n",
    "    \n",
    "    filtered_data = all_data.merge(count_data, on=colname, how='inner')\n",
    "    filtered_data.loc[filtered_data['frequency'] < cutoff, colname] = 'Other' ## low-frequency categories are renamed\n",
    "    filtered_data.drop('frequency',axis=1,inplace=True)\n",
    "  \n",
    "    return filtered_data \n",
    "\n",
    "all_data_data=filter_speciality(all_data)"
   ]
  },
  {
   "cell_type": "code",
   "execution_count": 64,
   "id": "initial-dutch",
   "metadata": {},
   "outputs": [
    {
     "name": "stdout",
     "output_type": "stream",
     "text": [
      "7     1103\n",
      "37     516\n",
      "2      372\n",
      "18     355\n",
      "12     273\n",
      "6      259\n",
      "29     230\n",
      "3      223\n",
      "9      166\n",
      "21     160\n",
      "5      158\n",
      "33     108\n",
      "30      98\n",
      "22      94\n",
      "28      90\n",
      "19      83\n",
      "23      81\n",
      "32      75\n",
      "16      70\n",
      "17      62\n",
      "13      53\n",
      "20      51\n",
      "14      47\n",
      "35      29\n",
      "4       27\n",
      "36      27\n",
      "24      23\n",
      "15      21\n",
      "10      20\n",
      "31      19\n",
      "1       18\n",
      "26      16\n",
      "38      14\n",
      "34      10\n",
      "11      10\n",
      "8        9\n",
      "39       8\n",
      "25       8\n",
      "0        7\n",
      "27       6\n",
      "Name: medical_specialty, dtype: int64\n"
     ]
    }
   ],
   "source": [
    "random_seed = 314\n",
    "colname='medical_specialty'\n",
    "all_data[colname], _ = pd.factorize(all_data[colname])\n",
    "#print(all_data[colname].value_counts())\n"
   ]
  },
  {
   "cell_type": "code",
   "execution_count": 68,
   "id": "opposite-fountain",
   "metadata": {},
   "outputs": [
    {
     "data": {
      "text/html": [
       "<div>\n",
       "<style scoped>\n",
       "    .dataframe tbody tr th:only-of-type {\n",
       "        vertical-align: middle;\n",
       "    }\n",
       "\n",
       "    .dataframe tbody tr th {\n",
       "        vertical-align: top;\n",
       "    }\n",
       "\n",
       "    .dataframe thead th {\n",
       "        text-align: right;\n",
       "    }\n",
       "</style>\n",
       "<table border=\"1\" class=\"dataframe\">\n",
       "  <thead>\n",
       "    <tr style=\"text-align: right;\">\n",
       "      <th></th>\n",
       "      <th>transcription</th>\n",
       "    </tr>\n",
       "  </thead>\n",
       "  <tbody>\n",
       "    <tr>\n",
       "      <th>2</th>\n",
       "      <td>HISTORY OF PRESENT ILLNESS: , I have seen ABC ...</td>\n",
       "    </tr>\n",
       "    <tr>\n",
       "      <th>3</th>\n",
       "      <td>2-D M-MODE: , ,1.  Left atrial enlargement wit...</td>\n",
       "    </tr>\n",
       "    <tr>\n",
       "      <th>4</th>\n",
       "      <td>1.  The left ventricular cavity size and wall ...</td>\n",
       "    </tr>\n",
       "    <tr>\n",
       "      <th>5</th>\n",
       "      <td>PREOPERATIVE DIAGNOSIS: , Morbid obesity.,POST...</td>\n",
       "    </tr>\n",
       "    <tr>\n",
       "      <th>9</th>\n",
       "      <td>DESCRIPTION:,1.  Normal cardiac chambers size....</td>\n",
       "    </tr>\n",
       "    <tr>\n",
       "      <th>...</th>\n",
       "      <td>...</td>\n",
       "    </tr>\n",
       "    <tr>\n",
       "      <th>4985</th>\n",
       "      <td>HISTORY OF PRESENT ILLNESS:,  Ms. A is a 55-ye...</td>\n",
       "    </tr>\n",
       "    <tr>\n",
       "      <th>4990</th>\n",
       "      <td>EXTERNAL EXAMINATION: , The body is that of a ...</td>\n",
       "    </tr>\n",
       "    <tr>\n",
       "      <th>4991</th>\n",
       "      <td>EXTERNAL EXAMINATION: , The autopsy is begun a...</td>\n",
       "    </tr>\n",
       "    <tr>\n",
       "      <th>4993</th>\n",
       "      <td>HISTORY:,  A 55-year-old female presents self-...</td>\n",
       "    </tr>\n",
       "    <tr>\n",
       "      <th>4994</th>\n",
       "      <td>HISTORY:,  I had the pleasure of meeting and e...</td>\n",
       "    </tr>\n",
       "  </tbody>\n",
       "</table>\n",
       "<p>1500 rows × 1 columns</p>\n",
       "</div>"
      ],
      "text/plain": [
       "                                          transcription\n",
       "2     HISTORY OF PRESENT ILLNESS: , I have seen ABC ...\n",
       "3     2-D M-MODE: , ,1.  Left atrial enlargement wit...\n",
       "4     1.  The left ventricular cavity size and wall ...\n",
       "5     PREOPERATIVE DIAGNOSIS: , Morbid obesity.,POST...\n",
       "9     DESCRIPTION:,1.  Normal cardiac chambers size....\n",
       "...                                                 ...\n",
       "4985  HISTORY OF PRESENT ILLNESS:,  Ms. A is a 55-ye...\n",
       "4990  EXTERNAL EXAMINATION: , The body is that of a ...\n",
       "4991  EXTERNAL EXAMINATION: , The autopsy is begun a...\n",
       "4993  HISTORY:,  A 55-year-old female presents self-...\n",
       "4994  HISTORY:,  I had the pleasure of meeting and e...\n",
       "\n",
       "[1500 rows x 1 columns]"
      ]
     },
     "execution_count": 68,
     "metadata": {},
     "output_type": "execute_result"
    }
   ],
   "source": [
    "train_data = all_data.sample(frac=0.7, random_state=random_seed)\n",
    "valid_data = all_data.loc[~all_data.index.isin(train_data.index)]\n",
    "\n",
    "train_y = train_data[colname].astype(\"int\")\n",
    "valid_y = valid_data[colname].astype(\"int\")\n",
    "\n",
    "train_x = train_data.drop(colname, axis=1)\n",
    "valid_x = valid_data.drop(colname, axis=1)\n",
    "\n",
    "#train_x\n",
    "valid_x"
   ]
  },
  {
   "cell_type": "code",
   "execution_count": 88,
   "id": "weekly-active",
   "metadata": {},
   "outputs": [],
   "source": [
    "import nltk"
   ]
  }
 ],
 "metadata": {
  "kernelspec": {
   "display_name": "pets",
   "language": "python",
   "name": "pets"
  },
  "language_info": {
   "codemirror_mode": {
    "name": "ipython",
    "version": 3
   },
   "file_extension": ".py",
   "mimetype": "text/x-python",
   "name": "python",
   "nbconvert_exporter": "python",
   "pygments_lexer": "ipython3",
   "version": "3.8.0"
  }
 },
 "nbformat": 4,
 "nbformat_minor": 5
}
